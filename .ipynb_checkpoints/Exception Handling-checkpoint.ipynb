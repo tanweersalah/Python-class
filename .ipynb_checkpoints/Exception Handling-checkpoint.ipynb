{
 "cells": [
  {
   "cell_type": "code",
   "execution_count": 16,
   "id": "6745cd0b-f8f5-45be-bfa1-90febe9a1c55",
   "metadata": {},
   "outputs": [
    {
     "name": "stdout",
     "output_type": "stream",
     "text": [
      "Key does not exist\n",
      "this is finally block\n",
      "Hello\n"
     ]
    }
   ],
   "source": [
    "my_dict = {1:2}\n",
    "\n",
    "try:\n",
    "    print('this is try block ', my_dict[4])\n",
    "except FileNotFoundError as error:\n",
    "    print('file does not exist', error)\n",
    "except RuntimeError:\n",
    "    print('Runtime Error', error)\n",
    "except :\n",
    "    print('Key does not exist')\n",
    "else:\n",
    "    # if no exception this block will execute after try block \n",
    "    print('this is else block')\n",
    "finally:\n",
    "    # this will run always\n",
    "    # after else if no exception\n",
    "    # after except if exception\n",
    "    print('this is finally block')\n",
    "    \n",
    "\n",
    "\n",
    "print('Hello')"
   ]
  },
  {
   "cell_type": "code",
   "execution_count": 17,
   "id": "bc1054e0-16b9-4f10-8d3f-e2ff61f6053b",
   "metadata": {},
   "outputs": [],
   "source": [
    "#raise"
   ]
  },
  {
   "cell_type": "code",
   "execution_count": 19,
   "id": "8e9b4c7a-97a9-46ac-8f16-ee40dd62cc33",
   "metadata": {},
   "outputs": [
    {
     "name": "stdout",
     "output_type": "stream",
     "text": [
      "3\n"
     ]
    }
   ],
   "source": [
    "number = 3\n",
    "if number > 5:\n",
    "    raise Exception(f\"The number should not exceed 5. ({number=})\")\n",
    "print(number)"
   ]
  },
  {
   "cell_type": "code",
   "execution_count": 21,
   "id": "c5d3e82c-678e-4077-9d73-6b1b89f13d0c",
   "metadata": {},
   "outputs": [
    {
     "ename": "AssertionError",
     "evalue": "The number should not exceed 5. (number=6)",
     "output_type": "error",
     "traceback": [
      "\u001b[0;31m---------------------------------------------------------------------------\u001b[0m",
      "\u001b[0;31mAssertionError\u001b[0m                            Traceback (most recent call last)",
      "Cell \u001b[0;32mIn[21], line 4\u001b[0m\n\u001b[1;32m      1\u001b[0m \u001b[38;5;66;03m#assert\u001b[39;00m\n\u001b[1;32m      3\u001b[0m number \u001b[38;5;241m=\u001b[39m \u001b[38;5;241m6\u001b[39m\n\u001b[0;32m----> 4\u001b[0m \u001b[38;5;28;01massert\u001b[39;00m (number \u001b[38;5;241m<\u001b[39m \u001b[38;5;241m5\u001b[39m), \u001b[38;5;124mf\u001b[39m\u001b[38;5;124m\"\u001b[39m\u001b[38;5;124mThe number should not exceed 5. (\u001b[39m\u001b[38;5;132;01m{\u001b[39;00mnumber\u001b[38;5;132;01m=}\u001b[39;00m\u001b[38;5;124m)\u001b[39m\u001b[38;5;124m\"\u001b[39m\n\u001b[1;32m      5\u001b[0m \u001b[38;5;28mprint\u001b[39m(number)\n",
      "\u001b[0;31mAssertionError\u001b[0m: The number should not exceed 5. (number=6)"
     ]
    }
   ],
   "source": [
    "#assert\n",
    "\n",
    "number = 6\n",
    "assert (number < 5), f\"The number should not exceed 5. ({number=})\"\n",
    "print(number)\n"
   ]
  },
  {
   "cell_type": "code",
   "execution_count": null,
   "id": "afd0f69f-6c5f-452f-b469-bd50eaef77c5",
   "metadata": {},
   "outputs": [],
   "source": []
  }
 ],
 "metadata": {
  "kernelspec": {
   "display_name": "Python 3 (ipykernel)",
   "language": "python",
   "name": "python3"
  },
  "language_info": {
   "codemirror_mode": {
    "name": "ipython",
    "version": 3
   },
   "file_extension": ".py",
   "mimetype": "text/x-python",
   "name": "python",
   "nbconvert_exporter": "python",
   "pygments_lexer": "ipython3",
   "version": "3.10.13"
  }
 },
 "nbformat": 4,
 "nbformat_minor": 5
}
