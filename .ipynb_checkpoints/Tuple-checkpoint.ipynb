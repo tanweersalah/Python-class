{
 "cells": [
  {
   "cell_type": "code",
   "execution_count": 1,
   "id": "5e7eb151-c805-4f16-9a04-3059c860e816",
   "metadata": {},
   "outputs": [
    {
     "name": "stdout",
     "output_type": "stream",
     "text": [
      "(1, 2, -5)\n"
     ]
    }
   ],
   "source": [
    "# ()\n",
    "\n",
    "numbers = (1, 2, -5)\n",
    "print(numbers)\n",
    "\n",
    "# Output: (1, 2, -5)"
   ]
  },
  {
   "cell_type": "code",
   "execution_count": 2,
   "id": "9db06f96-1a8f-4459-ac2a-e0a503f66f36",
   "metadata": {},
   "outputs": [
    {
     "name": "stdout",
     "output_type": "stream",
     "text": [
      "Python\n",
      "C++\n"
     ]
    }
   ],
   "source": [
    "languages = ('Python', 'Swift', 'C++')\n",
    "\n",
    "# access the first item\n",
    "print(languages[0])   # Python\n",
    "\n",
    "# access the third item\n",
    "print(languages[2])   # C++"
   ]
  },
  {
   "cell_type": "code",
   "execution_count": 3,
   "id": "0561e3f3-9d59-432e-9289-e9d428a321e6",
   "metadata": {},
   "outputs": [
    {
     "name": "stdout",
     "output_type": "stream",
     "text": [
      "Python\n",
      "Swift\n",
      "C++\n"
     ]
    }
   ],
   "source": [
    "for i in languages:\n",
    "    print(i)"
   ]
  },
  {
   "cell_type": "code",
   "execution_count": 4,
   "id": "9c2b2227-43b4-4c46-bfd7-901fbcbbbb85",
   "metadata": {},
   "outputs": [],
   "source": [
    "# Tuple are ordered DataType\n",
    "# Tuple are immutable"
   ]
  },
  {
   "cell_type": "code",
   "execution_count": 6,
   "id": "fb0fa5fb-9e6c-4d7a-a0f4-563600d7b78f",
   "metadata": {},
   "outputs": [],
   "source": [
    "languages = list(languages)\n",
    "languages.append('java')\n",
    "languages = tuple(languages)"
   ]
  },
  {
   "cell_type": "code",
   "execution_count": 7,
   "id": "7b61bf1b-15ee-4228-9dec-12df63713e4b",
   "metadata": {},
   "outputs": [
    {
     "data": {
      "text/plain": [
       "('Python', 'Swift', 'C++', 'java')"
      ]
     },
     "execution_count": 7,
     "metadata": {},
     "output_type": "execute_result"
    }
   ],
   "source": [
    "languages"
   ]
  },
  {
   "cell_type": "code",
   "execution_count": 8,
   "id": "46a2f4ab-74e9-4a75-a29c-d14f12c7f92f",
   "metadata": {},
   "outputs": [
    {
     "name": "stdout",
     "output_type": "stream",
     "text": [
      "('a', 'b', 'c', 1, 2, 3)\n"
     ]
    }
   ],
   "source": [
    "tuple1 = (\"a\", \"b\" , \"c\")\n",
    "tuple2 = (1, 2, 3)\n",
    "\n",
    "tuple3 = tuple1 + tuple2\n",
    "print(tuple3)"
   ]
  },
  {
   "cell_type": "code",
   "execution_count": 9,
   "id": "a6b58c4f-80b0-490c-8722-d3525ed052a7",
   "metadata": {},
   "outputs": [
    {
     "name": "stdout",
     "output_type": "stream",
     "text": [
      "('apple', 'banana', 'cherry', 'apple', 'banana', 'cherry')\n"
     ]
    }
   ],
   "source": [
    "fruits = (\"apple\", \"banana\", \"cherry\")\n",
    "mytuple = fruits * 2\n",
    "\n",
    "print(mytuple)"
   ]
  },
  {
   "cell_type": "code",
   "execution_count": 12,
   "id": "1c27b585-1b7a-46f6-9bcb-486eddf1961c",
   "metadata": {},
   "outputs": [
    {
     "name": "stdout",
     "output_type": "stream",
     "text": [
      "Help on method_descriptor:\n",
      "\n",
      "count(self, value, /)\n",
      "    Return number of occurrences of value.\n",
      "\n"
     ]
    }
   ],
   "source": [
    "help(tuple.count)"
   ]
  },
  {
   "cell_type": "code",
   "execution_count": 14,
   "id": "78e8bfca-0a9a-4273-a93f-1d8cda637070",
   "metadata": {},
   "outputs": [
    {
     "data": {
      "text/plain": [
       "0"
      ]
     },
     "execution_count": 14,
     "metadata": {},
     "output_type": "execute_result"
    }
   ],
   "source": [
    "mytuple.count('banan')"
   ]
  },
  {
   "cell_type": "code",
   "execution_count": 15,
   "id": "60876c1a-5dd3-4a72-9aff-ffab6b6e9ed9",
   "metadata": {},
   "outputs": [
    {
     "name": "stdout",
     "output_type": "stream",
     "text": [
      "Help on method_descriptor:\n",
      "\n",
      "index(self, value, start=0, stop=9223372036854775807, /)\n",
      "    Return first index of value.\n",
      "    \n",
      "    Raises ValueError if the value is not present.\n",
      "\n"
     ]
    }
   ],
   "source": [
    "help(tuple.index)"
   ]
  },
  {
   "cell_type": "code",
   "execution_count": 21,
   "id": "b77426f5-4a21-4c46-b3ad-c181909d8c98",
   "metadata": {},
   "outputs": [
    {
     "data": {
      "text/plain": [
       "1"
      ]
     },
     "execution_count": 21,
     "metadata": {},
     "output_type": "execute_result"
    }
   ],
   "source": [
    "mytuple.index('banana')"
   ]
  },
  {
   "cell_type": "code",
   "execution_count": null,
   "id": "f44da54c-ce95-4163-b8b2-b22052282cd9",
   "metadata": {},
   "outputs": [],
   "source": []
  }
 ],
 "metadata": {
  "kernelspec": {
   "display_name": "Python 3 (ipykernel)",
   "language": "python",
   "name": "python3"
  },
  "language_info": {
   "codemirror_mode": {
    "name": "ipython",
    "version": 3
   },
   "file_extension": ".py",
   "mimetype": "text/x-python",
   "name": "python",
   "nbconvert_exporter": "python",
   "pygments_lexer": "ipython3",
   "version": "3.10.13"
  }
 },
 "nbformat": 4,
 "nbformat_minor": 5
}
