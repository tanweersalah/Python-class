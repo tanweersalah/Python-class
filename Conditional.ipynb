{
 "cells": [
  {
   "cell_type": "code",
   "execution_count": 1,
   "id": "8a740ebf-2434-4bee-a342-f7b4d9bf38bc",
   "metadata": {},
   "outputs": [
    {
     "data": {
      "text/plain": [
       "bool"
      ]
     },
     "execution_count": 1,
     "metadata": {},
     "output_type": "execute_result"
    }
   ],
   "source": [
    "bool"
   ]
  },
  {
   "cell_type": "code",
   "execution_count": 2,
   "id": "49673036-60ff-4f22-87bc-fc7de73312a0",
   "metadata": {},
   "outputs": [
    {
     "data": {
      "text/plain": [
       "(True, False)"
      ]
     },
     "execution_count": 2,
     "metadata": {},
     "output_type": "execute_result"
    }
   ],
   "source": [
    "True, False"
   ]
  },
  {
   "cell_type": "code",
   "execution_count": 3,
   "id": "5b734a78-e5ca-4d76-8d68-9304878b8d2f",
   "metadata": {},
   "outputs": [
    {
     "data": {
      "text/plain": [
       "bool"
      ]
     },
     "execution_count": 3,
     "metadata": {},
     "output_type": "execute_result"
    }
   ],
   "source": [
    "type(True)"
   ]
  },
  {
   "cell_type": "code",
   "execution_count": 4,
   "id": "e720aa0f-8b61-4be7-b5c3-ae232322f8df",
   "metadata": {},
   "outputs": [
    {
     "data": {
      "text/plain": [
       "False"
      ]
     },
     "execution_count": 4,
     "metadata": {},
     "output_type": "execute_result"
    }
   ],
   "source": [
    "bool()"
   ]
  },
  {
   "cell_type": "code",
   "execution_count": 6,
   "id": "f44b9d51-337e-4838-8d64-6dc145157014",
   "metadata": {},
   "outputs": [
    {
     "data": {
      "text/plain": [
       "True"
      ]
     },
     "execution_count": 6,
     "metadata": {},
     "output_type": "execute_result"
    }
   ],
   "source": [
    "bool(4)"
   ]
  },
  {
   "cell_type": "code",
   "execution_count": 7,
   "id": "31fbf074-3ba2-43f1-937f-18e7c0e54bb3",
   "metadata": {},
   "outputs": [
    {
     "data": {
      "text/plain": [
       "True"
      ]
     },
     "execution_count": 7,
     "metadata": {},
     "output_type": "execute_result"
    }
   ],
   "source": [
    "bool('hi')"
   ]
  },
  {
   "cell_type": "code",
   "execution_count": 8,
   "id": "eed6c3a2-4251-4a9d-841f-ab6ed6ec9c56",
   "metadata": {},
   "outputs": [
    {
     "data": {
      "text/plain": [
       "False"
      ]
     },
     "execution_count": 8,
     "metadata": {},
     "output_type": "execute_result"
    }
   ],
   "source": [
    "bool('')"
   ]
  },
  {
   "cell_type": "code",
   "execution_count": 9,
   "id": "3f81f943-318c-49bd-beb7-224768eb91a6",
   "metadata": {},
   "outputs": [
    {
     "data": {
      "text/plain": [
       "False"
      ]
     },
     "execution_count": 9,
     "metadata": {},
     "output_type": "execute_result"
    }
   ],
   "source": [
    "bool([])"
   ]
  },
  {
   "cell_type": "code",
   "execution_count": 10,
   "id": "5201c806-e6f7-493e-bfd4-be915b551a63",
   "metadata": {},
   "outputs": [
    {
     "data": {
      "text/plain": [
       "True"
      ]
     },
     "execution_count": 10,
     "metadata": {},
     "output_type": "execute_result"
    }
   ],
   "source": [
    "bool([2,4])"
   ]
  },
  {
   "cell_type": "code",
   "execution_count": 11,
   "id": "2dc4a86b-2c39-4bc0-bfb8-90b5d3535fbd",
   "metadata": {},
   "outputs": [
    {
     "data": {
      "text/plain": [
       "False"
      ]
     },
     "execution_count": 11,
     "metadata": {},
     "output_type": "execute_result"
    }
   ],
   "source": [
    "bool({})"
   ]
  },
  {
   "cell_type": "code",
   "execution_count": 12,
   "id": "e2e3ccf1-891b-4594-92e6-a95d452aeb95",
   "metadata": {},
   "outputs": [
    {
     "data": {
      "text/plain": [
       "True"
      ]
     },
     "execution_count": 12,
     "metadata": {},
     "output_type": "execute_result"
    }
   ],
   "source": [
    "bool({1:2})"
   ]
  },
  {
   "cell_type": "markdown",
   "id": "de943af1-eb19-4259-8fd4-81c79642572a",
   "metadata": {},
   "source": [
    "Operators\n",
    "    "
   ]
  },
  {
   "cell_type": "code",
   "execution_count": 14,
   "id": "9e36ea3a-7bd7-4622-bbe2-d912f8947688",
   "metadata": {},
   "outputs": [
    {
     "name": "stdout",
     "output_type": "stream",
     "text": [
      "False\n",
      "True\n",
      "True\n",
      "False\n",
      "False\n",
      "False\n",
      "True\n",
      "True\n",
      "False\n",
      "True\n"
     ]
    }
   ],
   "source": [
    "print(f\"{1 == 0}\")\n",
    "print(f\"{1 != 0}\")\n",
    "print(f\"{1 > 0}\")\n",
    "print(f\"{1 > 1}\")\n",
    "print(f\"{1 < 0}\")\n",
    "print(f\"{1 < 1}\")\n",
    "print(f\"{1 >= 0}\")\n",
    "print(f\"{1 >= 1}\")\n",
    "print(f\"{1 <= 0}\")\n",
    "print(f\"{1 <= 1}\")"
   ]
  },
  {
   "cell_type": "code",
   "execution_count": 17,
   "id": "8aa64b59-d883-4ad9-b673-e2212ef154e6",
   "metadata": {},
   "outputs": [
    {
     "name": "stdout",
     "output_type": "stream",
     "text": [
      "False\n"
     ]
    }
   ],
   "source": [
    "print(f\"{1 <= 2 <= 3 < 3}\")"
   ]
  },
  {
   "cell_type": "code",
   "execution_count": 18,
   "id": "25186c22-46bd-4e11-ad26-19e8a816be13",
   "metadata": {},
   "outputs": [],
   "source": [
    "python_is_cool = True\n",
    "java_is_cool = False\n",
    "empty_list = []\n",
    "secret_value = 3.14"
   ]
  },
  {
   "cell_type": "code",
   "execution_count": 19,
   "id": "6d4286fe-10ba-42a0-98d7-6775a450c00e",
   "metadata": {},
   "outputs": [
    {
     "name": "stdout",
     "output_type": "stream",
     "text": [
      "Python and java are both cool: False\n",
      "secret_value and python_is_cool: True\n"
     ]
    }
   ],
   "source": [
    "print(f\"Python and java are both cool: {python_is_cool and java_is_cool}\")\n",
    "print(f\"secret_value and python_is_cool: {secret_value and python_is_cool}\")"
   ]
  },
  {
   "cell_type": "code",
   "execution_count": 20,
   "id": "3ef7ca95-9f50-4632-a15e-121944b42204",
   "metadata": {},
   "outputs": [
    {
     "name": "stdout",
     "output_type": "stream",
     "text": [
      "Python or java is cool: True\n",
      "False\n"
     ]
    }
   ],
   "source": [
    "print(f\"Python or java is cool: {python_is_cool or java_is_cool}\")\n",
    "print(f\"{1 >= 1.1 or 2 < 1.4}\")"
   ]
  },
  {
   "cell_type": "code",
   "execution_count": 21,
   "id": "e1f1c6fa-48a4-4b46-86b4-4fbf439ff624",
   "metadata": {},
   "outputs": [
    {
     "name": "stdout",
     "output_type": "stream",
     "text": [
      "Java is not cool: True\n"
     ]
    }
   ],
   "source": [
    "print(f\"Java is not cool: {not java_is_cool}\")"
   ]
  },
  {
   "cell_type": "code",
   "execution_count": 22,
   "id": "9d6076e9-76cd-40be-a9bb-b8645e32cabc",
   "metadata": {},
   "outputs": [
    {
     "name": "stdout",
     "output_type": "stream",
     "text": [
      "True\n",
      "False\n"
     ]
    }
   ],
   "source": [
    "print(bool(not java_is_cool or secret_value and python_is_cool or empty_list))\n",
    "print(bool(not (java_is_cool or secret_value and python_is_cool or empty_list)))"
   ]
  },
  {
   "cell_type": "markdown",
   "id": "a0db6313-a326-4a27-9ced-52ae77b15fb3",
   "metadata": {
    "scrolled": true
   },
   "source": [
    "if"
   ]
  },
  {
   "cell_type": "code",
   "execution_count": 24,
   "id": "500ff6c1-73d3-43d5-b8db-ec42c446ac60",
   "metadata": {},
   "outputs": [
    {
     "name": "stdout",
     "output_type": "stream",
     "text": [
      "statement is True\n"
     ]
    }
   ],
   "source": [
    "statement = True\n",
    "if statement:\n",
    "    print(\"statement is True\")\n",
    "\n",
    "if not statement:\n",
    "    print(\"statement is not True\")"
   ]
  },
  {
   "cell_type": "code",
   "execution_count": 29,
   "id": "0ed9fe03-dadf-4c02-848b-6ab9ac5be6bf",
   "metadata": {},
   "outputs": [],
   "source": [
    "empty_list = []\n",
    "# With if and elif, conversion to `bool` is implicit\n",
    "if empty_list:\n",
    "    print(\"empty list will not evaluate to True\")  # this won't be executed"
   ]
  },
  {
   "cell_type": "code",
   "execution_count": null,
   "id": "59710884-9674-4edc-a040-fd47c16d42a1",
   "metadata": {},
   "outputs": [],
   "source": []
  }
 ],
 "metadata": {
  "kernelspec": {
   "display_name": "Python 3 (ipykernel)",
   "language": "python",
   "name": "python3"
  },
  "language_info": {
   "codemirror_mode": {
    "name": "ipython",
    "version": 3
   },
   "file_extension": ".py",
   "mimetype": "text/x-python",
   "name": "python",
   "nbconvert_exporter": "python",
   "pygments_lexer": "ipython3",
   "version": "3.10.13"
  }
 },
 "nbformat": 4,
 "nbformat_minor": 5
}
