{
 "cells": [
  {
   "cell_type": "markdown",
   "id": "d1d902a7-8f8c-4369-a3b7-4ba72072c7d8",
   "metadata": {},
   "source": [
    "# String\n"
   ]
  },
  {
   "cell_type": "code",
   "execution_count": 6,
   "id": "a5aba71e-cc45-4e9c-9070-040f8d8e7936",
   "metadata": {},
   "outputs": [],
   "source": [
    "my_string = 'This is my string!' "
   ]
  },
  {
   "cell_type": "code",
   "execution_count": 7,
   "id": "cd982eee-e5a2-4c97-9ebf-1c3fabec52b5",
   "metadata": {},
   "outputs": [
    {
     "data": {
      "text/plain": [
       "'This is my string!'"
      ]
     },
     "execution_count": 7,
     "metadata": {},
     "output_type": "execute_result"
    }
   ],
   "source": [
    "my_string"
   ]
  },
  {
   "cell_type": "code",
   "execution_count": 8,
   "id": "83eaccca-639a-46dd-80ea-be2c4bd3c271",
   "metadata": {},
   "outputs": [
    {
     "data": {
      "text/plain": [
       "str"
      ]
     },
     "execution_count": 8,
     "metadata": {},
     "output_type": "execute_result"
    }
   ],
   "source": [
    "type(my_string)"
   ]
  },
  {
   "cell_type": "code",
   "execution_count": 9,
   "id": "ee774092-827f-4e0c-83b6-9fc7fe6f0ab2",
   "metadata": {},
   "outputs": [
    {
     "data": {
      "text/plain": [
       "18"
      ]
     },
     "execution_count": 9,
     "metadata": {},
     "output_type": "execute_result"
    }
   ],
   "source": [
    "len(my_string)"
   ]
  },
  {
   "cell_type": "code",
   "execution_count": 12,
   "id": "dd95e905-3ae4-4036-926d-30ad602226db",
   "metadata": {},
   "outputs": [],
   "source": [
    "long_line = (\n",
    "    \"first string\"\n",
    "\n",
    "    \n",
    "    \"second string\"\n",
    "    \"third string\"\n",
    ")"
   ]
  },
  {
   "cell_type": "code",
   "execution_count": 13,
   "id": "98894f5b-db05-48c6-b16a-b88505867478",
   "metadata": {},
   "outputs": [
    {
     "data": {
      "text/plain": [
       "'first stringsecond stringthird string'"
      ]
     },
     "execution_count": 13,
     "metadata": {},
     "output_type": "execute_result"
    }
   ],
   "source": [
    "long_line"
   ]
  },
  {
   "cell_type": "code",
   "execution_count": 14,
   "id": "c2904f6a-c201-44aa-ab4a-192a29610d48",
   "metadata": {},
   "outputs": [],
   "source": [
    "multple_line = '''\n",
    "hi \n",
    "heloo\n",
    "\n",
    "you\n",
    "\n",
    "gd\n",
    "'''"
   ]
  },
  {
   "cell_type": "code",
   "execution_count": 15,
   "id": "7db065cf-4476-4365-a7d9-8a04a225bced",
   "metadata": {},
   "outputs": [
    {
     "data": {
      "text/plain": [
       "'\\nhi \\nheloo\\n\\nyou\\n\\ngd\\n'"
      ]
     },
     "execution_count": 15,
     "metadata": {},
     "output_type": "execute_result"
    }
   ],
   "source": [
    "multple_line"
   ]
  },
  {
   "cell_type": "markdown",
   "id": "44dc5c5f-a4d3-4e36-97a7-de828a09bd9e",
   "metadata": {},
   "source": [
    "# str.replace()"
   ]
  },
  {
   "cell_type": "code",
   "execution_count": 16,
   "id": "a32374f4-5d11-40fb-bf77-12f480d95864",
   "metadata": {},
   "outputs": [
    {
     "name": "stdout",
     "output_type": "stream",
     "text": [
      "Help on method_descriptor:\n",
      "\n",
      "replace(self, old, new, count=-1, /)\n",
      "    Return a copy with all occurrences of substring old replaced by new.\n",
      "    \n",
      "      count\n",
      "        Maximum number of occurrences to replace.\n",
      "        -1 (the default value) means replace all occurrences.\n",
      "    \n",
      "    If the optional argument count is given, only the first count occurrences are\n",
      "    replaced.\n",
      "\n"
     ]
    }
   ],
   "source": [
    "help(str.replace)"
   ]
  },
  {
   "cell_type": "code",
   "execution_count": 17,
   "id": "508c106b-6b2a-4001-baf7-01d16eed18d9",
   "metadata": {},
   "outputs": [],
   "source": [
    "my_string = 'This is my string!' "
   ]
  },
  {
   "cell_type": "code",
   "execution_count": 20,
   "id": "528787a9-64eb-44c1-a93f-6d9e42cca32a",
   "metadata": {},
   "outputs": [],
   "source": [
    "your_string = my_string.replace('my','your')"
   ]
  },
  {
   "cell_type": "code",
   "execution_count": 22,
   "id": "08f09dab-1d54-49f6-9426-8f29328bec86",
   "metadata": {},
   "outputs": [
    {
     "data": {
      "text/plain": [
       "'This is my string!'"
      ]
     },
     "execution_count": 22,
     "metadata": {},
     "output_type": "execute_result"
    }
   ],
   "source": [
    "my_string"
   ]
  },
  {
   "cell_type": "code",
   "execution_count": 23,
   "id": "a1969056-9237-4f0b-8abd-185d928a49cd",
   "metadata": {},
   "outputs": [
    {
     "data": {
      "text/plain": [
       "'This is your string!'"
      ]
     },
     "execution_count": 23,
     "metadata": {},
     "output_type": "execute_result"
    }
   ],
   "source": [
    "your_string"
   ]
  },
  {
   "cell_type": "markdown",
   "id": "ad6c1834-14af-451d-ada8-80c18cdc8093",
   "metadata": {},
   "source": [
    "# f string"
   ]
  },
  {
   "cell_type": "code",
   "execution_count": 25,
   "id": "7ceca0bf-ba38-4c8f-979d-ef89b99b9965",
   "metadata": {},
   "outputs": [
    {
     "name": "stdout",
     "output_type": "stream",
     "text": [
      "Karan study in BTU\n"
     ]
    }
   ],
   "source": [
    "name = 'Karan'\n",
    "uni = 'BTU'\n",
    "\n",
    "print(name + ' study in ' + uni)"
   ]
  },
  {
   "cell_type": "code",
   "execution_count": 26,
   "id": "3f56b5ec-030b-4a36-bc33-e503aff4eded",
   "metadata": {},
   "outputs": [
    {
     "name": "stdout",
     "output_type": "stream",
     "text": [
      "Karan study in BTU\n"
     ]
    }
   ],
   "source": [
    "print(f'{name} study in {uni}')"
   ]
  },
  {
   "cell_type": "code",
   "execution_count": 27,
   "id": "b8aa34b4-cbf4-4ef2-9251-95e6fc07f4d9",
   "metadata": {
    "scrolled": true
   },
   "outputs": [
    {
     "name": "stdout",
     "output_type": "stream",
     "text": [
      "Help on method_descriptor:\n",
      "\n",
      "join(self, iterable, /)\n",
      "    Concatenate any number of strings.\n",
      "    \n",
      "    The string whose method is called is inserted in between each given string.\n",
      "    The result is returned as a new string.\n",
      "    \n",
      "    Example: '.'.join(['ab', 'pq', 'rs']) -> 'ab.pq.rs'\n",
      "\n"
     ]
    }
   ],
   "source": [
    "help(str.join)"
   ]
  },
  {
   "cell_type": "code",
   "execution_count": 28,
   "id": "3f6980a8-c2d3-4d7e-a7e7-bcf462155b83",
   "metadata": {},
   "outputs": [],
   "source": [
    "m_list = ['hi', 'Hello']"
   ]
  },
  {
   "cell_type": "code",
   "execution_count": 32,
   "id": "eabdc8bc-408e-4725-b50a-be3ae6e3b489",
   "metadata": {},
   "outputs": [
    {
     "data": {
      "text/plain": [
       "'hiHello'"
      ]
     },
     "execution_count": 32,
     "metadata": {},
     "output_type": "execute_result"
    }
   ],
   "source": [
    "''.join(m_list)"
   ]
  },
  {
   "cell_type": "code",
   "execution_count": 34,
   "id": "e1aaf09a-84f4-47a6-a2ca-bb56edd788d5",
   "metadata": {},
   "outputs": [
    {
     "name": "stdout",
     "output_type": "stream",
     "text": [
      "Help on method_descriptor:\n",
      "\n",
      "upper(self, /)\n",
      "    Return a copy of the string converted to uppercase.\n",
      "\n"
     ]
    }
   ],
   "source": [
    "help(str.upper)"
   ]
  },
  {
   "cell_type": "code",
   "execution_count": 35,
   "id": "56b76672-7b5a-499a-a00a-7f41a9539adc",
   "metadata": {},
   "outputs": [
    {
     "name": "stdout",
     "output_type": "stream",
     "text": [
      "Help on method_descriptor:\n",
      "\n",
      "lower(self, /)\n",
      "    Return a copy of the string converted to lowercase.\n",
      "\n"
     ]
    }
   ],
   "source": [
    "help(str.lower)"
   ]
  },
  {
   "cell_type": "code",
   "execution_count": 36,
   "id": "f898c013-7276-4cf8-ab4a-b48eb48767d1",
   "metadata": {},
   "outputs": [
    {
     "name": "stdout",
     "output_type": "stream",
     "text": [
      "Help on method_descriptor:\n",
      "\n",
      "title(self, /)\n",
      "    Return a version of the string where each word is titlecased.\n",
      "    \n",
      "    More specifically, words start with uppercased characters and all remaining\n",
      "    cased characters have lower case.\n",
      "\n"
     ]
    }
   ],
   "source": [
    "help(str.title)"
   ]
  },
  {
   "cell_type": "code",
   "execution_count": 37,
   "id": "2115005c-be07-4b1c-b8c9-42175ed1e1ac",
   "metadata": {},
   "outputs": [
    {
     "name": "stdout",
     "output_type": "stream",
     "text": [
      "Help on method_descriptor:\n",
      "\n",
      "strip(self, chars=None, /)\n",
      "    Return a copy of the string with leading and trailing whitespace removed.\n",
      "    \n",
      "    If chars is given and not None, remove characters in chars instead.\n",
      "\n"
     ]
    }
   ],
   "source": [
    "help(str.strip)"
   ]
  },
  {
   "cell_type": "code",
   "execution_count": 50,
   "id": "b9a0409f-1866-49eb-b7dc-0fd52a483b5b",
   "metadata": {},
   "outputs": [
    {
     "name": "stdout",
     "output_type": "stream",
     "text": [
      "ugly:  \n",
      " \t Some story to ltell        \n",
      "stripped: Some story to ltell\n"
     ]
    }
   ],
   "source": [
    "ugly_formatted = \" \\n \\t Some story to ltell        \"\n",
    "stripped = ugly_formatted.strip()\n",
    "\n",
    "print(f\"ugly: {ugly_formatted}\")\n",
    "print(f\"stripped: {stripped}\")\n"
   ]
  },
  {
   "cell_type": "code",
   "execution_count": 51,
   "id": "c4621938-0254-4c8f-b8f8-08727cd44113",
   "metadata": {},
   "outputs": [
    {
     "data": {
      "text/plain": [
       "'Some story to lte'"
      ]
     },
     "execution_count": 51,
     "metadata": {},
     "output_type": "execute_result"
    }
   ],
   "source": [
    "ugly_formatted.strip(' \\t \\n l')"
   ]
  },
  {
   "cell_type": "code",
   "execution_count": 52,
   "id": "6766e203-8639-4960-a6ce-2a73216dc83e",
   "metadata": {},
   "outputs": [
    {
     "name": "stdout",
     "output_type": "stream",
     "text": [
      "Help on method_descriptor:\n",
      "\n",
      "split(self, /, sep=None, maxsplit=-1)\n",
      "    Return a list of the substrings in the string, using sep as the separator string.\n",
      "    \n",
      "      sep\n",
      "        The separator used to split the string.\n",
      "    \n",
      "        When set to None (the default value), will split on any whitespace\n",
      "        character (including \\\\n \\\\r \\\\t \\\\f and spaces) and will discard\n",
      "        empty strings from the result.\n",
      "      maxsplit\n",
      "        Maximum number of splits (starting from the left).\n",
      "        -1 (the default value) means no limit.\n",
      "    \n",
      "    Note, str.split() is mainly useful for data that has been intentionally\n",
      "    delimited.  With natural text that includes punctuation, consider using\n",
      "    the regular expression module.\n",
      "\n"
     ]
    }
   ],
   "source": [
    "help(str.split)"
   ]
  },
  {
   "cell_type": "code",
   "execution_count": 54,
   "id": "9e2beb2a-310a-49bb-8cc9-414695997fdd",
   "metadata": {},
   "outputs": [
    {
     "data": {
      "text/plain": [
       "['Some ', ' to ltell']"
      ]
     },
     "execution_count": 54,
     "metadata": {},
     "output_type": "execute_result"
    }
   ],
   "source": [
    "stripped.split('story')"
   ]
  },
  {
   "cell_type": "code",
   "execution_count": 55,
   "id": "60f4c7a3-0d74-4155-9e67-2c9f4a17d4ab",
   "metadata": {},
   "outputs": [
    {
     "name": "stdout",
     "output_type": "stream",
     "text": [
      "this looks good\n"
     ]
    }
   ],
   "source": [
    "ugly_mixed_case = \"   ThIS LooKs BAd \"\n",
    "pretty = ugly_mixed_case.strip().lower().replace(\"bad\", \"good\")\n",
    "print(pretty)"
   ]
  },
  {
   "cell_type": "code",
   "execution_count": 56,
   "id": "a5f27412-d6c8-405d-a67f-b8d441b1cfac",
   "metadata": {},
   "outputs": [
    {
     "name": "stdout",
     "output_type": "stream",
     "text": [
      "this looks bad\n"
     ]
    }
   ],
   "source": [
    "pretty = ugly_mixed_case.replace(\"bad\", \"good\").strip().lower()\n",
    "print(pretty)"
   ]
  },
  {
   "cell_type": "code",
   "execution_count": 57,
   "id": "90867c22-1a97-4aa7-8012-7680d19463ea",
   "metadata": {},
   "outputs": [
    {
     "name": "stdout",
     "output_type": "stream",
     "text": [
      "First line\n",
      "Second line\n"
     ]
    }
   ],
   "source": [
    "two_lines = \"First line\\nSecond line\"\n",
    "print(two_lines)"
   ]
  },
  {
   "cell_type": "code",
   "execution_count": 58,
   "id": "b382af8a-ca54-4c09-93b9-14bbbc194491",
   "metadata": {},
   "outputs": [
    {
     "name": "stdout",
     "output_type": "stream",
     "text": [
      "\tThis will be indented\n"
     ]
    }
   ],
   "source": [
    "indented = \"\\tThis will be indented\"\n",
    "print(indented)"
   ]
  },
  {
   "cell_type": "code",
   "execution_count": null,
   "id": "9b75be1f-9eb8-4e84-8790-657f30371b13",
   "metadata": {},
   "outputs": [],
   "source": []
  }
 ],
 "metadata": {
  "kernelspec": {
   "display_name": "Python 3 (ipykernel)",
   "language": "python",
   "name": "python3"
  },
  "language_info": {
   "codemirror_mode": {
    "name": "ipython",
    "version": 3
   },
   "file_extension": ".py",
   "mimetype": "text/x-python",
   "name": "python",
   "nbconvert_exporter": "python",
   "pygments_lexer": "ipython3",
   "version": "3.10.13"
  }
 },
 "nbformat": 4,
 "nbformat_minor": 5
}
