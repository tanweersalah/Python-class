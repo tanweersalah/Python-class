{
 "cells": [
  {
   "cell_type": "markdown",
   "metadata": {},
   "source": [
    "# OOPS"
   ]
  },
  {
   "cell_type": "code",
   "execution_count": 1,
   "metadata": {},
   "outputs": [],
   "source": [
    "# class\n",
    "\n",
    "item = 'Potato'\n",
    "price = 40.0\n",
    "quantity = 2\n"
   ]
  },
  {
   "cell_type": "code",
   "execution_count": 3,
   "metadata": {},
   "outputs": [
    {
     "data": {
      "text/plain": [
       "'hello'"
      ]
     },
     "execution_count": 3,
     "metadata": {},
     "output_type": "execute_result"
    }
   ],
   "source": [
    "x = str('hello')\n",
    "x"
   ]
  },
  {
   "cell_type": "code",
   "execution_count": 4,
   "metadata": {},
   "outputs": [
    {
     "data": {
      "text/plain": [
       "'HELLO'"
      ]
     },
     "execution_count": 4,
     "metadata": {},
     "output_type": "execute_result"
    }
   ],
   "source": [
    "x.upper()"
   ]
  },
  {
   "cell_type": "code",
   "execution_count": 8,
   "metadata": {},
   "outputs": [
    {
     "name": "stdout",
     "output_type": "stream",
     "text": [
      "cost :  80.0\n"
     ]
    }
   ],
   "source": [
    "print('cost : ', price*quantity)"
   ]
  },
  {
   "cell_type": "code",
   "execution_count": 2,
   "metadata": {},
   "outputs": [
    {
     "name": "stdout",
     "output_type": "stream",
     "text": [
      "<class 'str'>\n",
      "<class 'float'>\n",
      "<class 'int'>\n"
     ]
    }
   ],
   "source": [
    "print(type(item))\n",
    "print(type(price))\n",
    "print(type(quantity))\n",
    "\n"
   ]
  },
  {
   "cell_type": "code",
   "execution_count": 12,
   "metadata": {},
   "outputs": [],
   "source": [
    "def get_total_cost():\n",
    "        price = 40.0\n",
    "        quantity = 2\n",
    "        print('cost : ', price*quantity)"
   ]
  },
  {
   "cell_type": "code",
   "execution_count": 13,
   "metadata": {},
   "outputs": [
    {
     "name": "stdout",
     "output_type": "stream",
     "text": [
      "cost :  80.0\n"
     ]
    }
   ],
   "source": [
    "get_total_cost()"
   ]
  },
  {
   "cell_type": "code",
   "execution_count": 18,
   "metadata": {},
   "outputs": [],
   "source": [
    "class Store:\n",
    "    \n",
    "    name = 'XYZ Store'\n",
    "    catalog = []\n",
    "    \n",
    "    def __init__(self, balance) :\n",
    "        self.store_balance = balance\n",
    "        self.cart = []\n",
    "        \n",
    "\n",
    "    def get_total_cost(self):\n",
    "        price = 40.0\n",
    "        quantity = 2\n",
    "        print('cost : ', price*quantity)\n"
   ]
  },
  {
   "cell_type": "code",
   "execution_count": 20,
   "metadata": {},
   "outputs": [
    {
     "data": {
      "text/plain": [
       "'XYZ Store'"
      ]
     },
     "execution_count": 20,
     "metadata": {},
     "output_type": "execute_result"
    }
   ],
   "source": [
    "my_store = Store(400)\n",
    "# instance of Store Class\n",
    "my_store.name\n"
   ]
  },
  {
   "cell_type": "code",
   "execution_count": 17,
   "metadata": {},
   "outputs": [
    {
     "data": {
      "text/plain": [
       "400"
      ]
     },
     "execution_count": 17,
     "metadata": {},
     "output_type": "execute_result"
    }
   ],
   "source": [
    "#instance variable\n",
    "#class variable\n",
    "\n",
    "#instance variable\n",
    "\n",
    "my_store.store_balance "
   ]
  },
  {
   "cell_type": "code",
   "execution_count": 10,
   "metadata": {},
   "outputs": [
    {
     "data": {
      "text/plain": [
       "5000"
      ]
     },
     "execution_count": 10,
     "metadata": {},
     "output_type": "execute_result"
    }
   ],
   "source": [
    "my_store.store_balance"
   ]
  },
  {
   "cell_type": "code",
   "execution_count": 21,
   "metadata": {},
   "outputs": [
    {
     "data": {
      "text/plain": [
       "'XYZ Store'"
      ]
     },
     "execution_count": 21,
     "metadata": {},
     "output_type": "execute_result"
    }
   ],
   "source": [
    "my_second_store = Store(11)\n",
    "\n",
    "my_second_store.name"
   ]
  },
  {
   "cell_type": "code",
   "execution_count": 24,
   "metadata": {},
   "outputs": [
    {
     "data": {
      "text/plain": [
       "'ABC Store'"
      ]
     },
     "execution_count": 24,
     "metadata": {},
     "output_type": "execute_result"
    }
   ],
   "source": [
    "my_second_store.name"
   ]
  },
  {
   "cell_type": "code",
   "execution_count": 23,
   "metadata": {},
   "outputs": [],
   "source": [
    "Store.name = 'ABC Store'"
   ]
  },
  {
   "cell_type": "code",
   "execution_count": null,
   "metadata": {},
   "outputs": [],
   "source": [
    "#class variable"
   ]
  },
  {
   "cell_type": "code",
   "execution_count": 56,
   "metadata": {},
   "outputs": [],
   "source": []
  },
  {
   "cell_type": "code",
   "execution_count": 39,
   "metadata": {},
   "outputs": [
    {
     "data": {
      "text/plain": [
       "mappingproxy({'__module__': '__main__',\n",
       "              'store_name': 'XYZ Store',\n",
       "              'catalog': [],\n",
       "              '__init__': <function __main__.OnlineStore.__init__(self, c_name)>,\n",
       "              'print_all_cart_items': <function __main__.OnlineStore.print_all_cart_items(self)>,\n",
       "              '__dict__': <attribute '__dict__' of 'OnlineStore' objects>,\n",
       "              '__weakref__': <attribute '__weakref__' of 'OnlineStore' objects>,\n",
       "              '__doc__': None})"
      ]
     },
     "execution_count": 39,
     "metadata": {},
     "output_type": "execute_result"
    }
   ],
   "source": [
    "OnlineStore.__dict__"
   ]
  },
  {
   "cell_type": "code",
   "execution_count": 40,
   "metadata": {},
   "outputs": [],
   "source": [
    "first_customer = OnlineStore('Tanweer')"
   ]
  },
  {
   "cell_type": "code",
   "execution_count": 41,
   "metadata": {},
   "outputs": [],
   "source": [
    "first_customer.cart.append('Iphone')\n",
    "first_customer.cart.append('Macbook')"
   ]
  },
  {
   "cell_type": "code",
   "execution_count": 42,
   "metadata": {},
   "outputs": [
    {
     "name": "stdout",
     "output_type": "stream",
     "text": [
      "Iphone\n",
      "Macbook\n"
     ]
    }
   ],
   "source": [
    "first_customer.print_all_cart_items()"
   ]
  },
  {
   "cell_type": "code",
   "execution_count": 43,
   "metadata": {},
   "outputs": [],
   "source": [
    "second_customer = OnlineStore('Karan')"
   ]
  },
  {
   "cell_type": "code",
   "execution_count": 44,
   "metadata": {},
   "outputs": [],
   "source": [
    "second_customer.print_all_cart_items()"
   ]
  },
  {
   "cell_type": "code",
   "execution_count": 45,
   "metadata": {},
   "outputs": [
    {
     "name": "stdout",
     "output_type": "stream",
     "text": [
      "Iphone\n",
      "Macbook\n"
     ]
    }
   ],
   "source": [
    "first_customer.print_all_cart_items()"
   ]
  },
  {
   "cell_type": "code",
   "execution_count": 47,
   "metadata": {},
   "outputs": [
    {
     "data": {
      "text/plain": [
       "'XYZ Store'"
      ]
     },
     "execution_count": 47,
     "metadata": {},
     "output_type": "execute_result"
    }
   ],
   "source": [
    "second_customer.store_name"
   ]
  },
  {
   "cell_type": "code",
   "execution_count": 53,
   "metadata": {},
   "outputs": [
    {
     "data": {
      "text/plain": [
       "'XYZ Store'"
      ]
     },
     "execution_count": 53,
     "metadata": {},
     "output_type": "execute_result"
    }
   ],
   "source": [
    "OnlineStore.store_name"
   ]
  },
  {
   "cell_type": "code",
   "execution_count": 51,
   "metadata": {},
   "outputs": [],
   "source": [
    "new_customer = OnlineStore('madhvi', 'qwertz')"
   ]
  },
  {
   "cell_type": "code",
   "execution_count": 52,
   "metadata": {},
   "outputs": [
    {
     "data": {
      "text/plain": [
       "'qwertz'"
      ]
     },
     "execution_count": 52,
     "metadata": {},
     "output_type": "execute_result"
    }
   ],
   "source": [
    "new_customer.store_name"
   ]
  },
  {
   "cell_type": "markdown",
   "metadata": {},
   "source": [
    "Define the Rocket() class.\n",
    "Define the __init__() method, which sets an x and a y value for each Rocket object.\n",
    "Define the move_up() method.\n",
    "Create a Rocket object.\n",
    "Print the object.\n",
    "Print the object's y-value.\n",
    "Move the rocket up, and print its y-value again.\n",
    "Create a fleet of rockets, and prove that they are indeed separate Rocket objects."
   ]
  },
  {
   "cell_type": "code",
   "execution_count": 54,
   "metadata": {},
   "outputs": [
    {
     "data": {
      "text/plain": [
       "<__main__.Store at 0x1180bb3a0>"
      ]
     },
     "execution_count": 54,
     "metadata": {},
     "output_type": "execute_result"
    }
   ],
   "source": [
    "my_second_store"
   ]
  },
  {
   "cell_type": "code",
   "execution_count": 55,
   "metadata": {},
   "outputs": [
    {
     "data": {
      "text/plain": [
       "<__main__.Store at 0x1180bb610>"
      ]
     },
     "execution_count": 55,
     "metadata": {},
     "output_type": "execute_result"
    }
   ],
   "source": [
    "my_store"
   ]
  },
  {
   "cell_type": "code",
   "execution_count": 61,
   "metadata": {},
   "outputs": [
    {
     "name": "stdout",
     "output_type": "stream",
     "text": [
      "<built-in function time>\n"
     ]
    }
   ],
   "source": [
    "# Class method, Static Method\n",
    "\n",
    "OnlineStore.store_time()\n",
    "\n",
    "my_store_new = OnlineStore('a', 'b')"
   ]
  },
  {
   "cell_type": "code",
   "execution_count": 62,
   "metadata": {},
   "outputs": [
    {
     "ename": "TypeError",
     "evalue": "OnlineStore.store_time() takes 0 positional arguments but 1 was given",
     "output_type": "error",
     "traceback": [
      "\u001b[0;31m---------------------------------------------------------------------------\u001b[0m",
      "\u001b[0;31mTypeError\u001b[0m                                 Traceback (most recent call last)",
      "Cell \u001b[0;32mIn[62], line 1\u001b[0m\n\u001b[0;32m----> 1\u001b[0m \u001b[43mmy_store_new\u001b[49m\u001b[38;5;241;43m.\u001b[39;49m\u001b[43mstore_time\u001b[49m\u001b[43m(\u001b[49m\u001b[43m)\u001b[49m\n",
      "\u001b[0;31mTypeError\u001b[0m: OnlineStore.store_time() takes 0 positional arguments but 1 was given"
     ]
    }
   ],
   "source": [
    "my_store_new.store_time()"
   ]
  },
  {
   "cell_type": "code",
   "execution_count": 1,
   "metadata": {},
   "outputs": [],
   "source": [
    "import time\n",
    "class OnlineStore:\n",
    "    \n",
    "    store_name = 'XYZ Store'\n",
    "    catalog = []\n",
    "    \n",
    "    def __init__(self, c_name, store_name) :\n",
    "        self.customer_name = c_name\n",
    "        self.cart = []\n",
    "        self.store_name = store_name\n",
    "\n",
    "\n",
    "    @staticmethod\n",
    "    def store_time():\n",
    "        print(time.time)\n",
    "\n",
    "    @classmethod\n",
    "    def change_store_name(cls, new_name):\n",
    "        cls.store_name = new_name\n",
    "        print('Store name changed succefully', cls.store_name)\n",
    "    \n",
    "    def change_store_name_2(self, new_name):\n",
    "        self.store_name = new_name\n",
    "        print('Store name changed succefully', self.store_name)\n",
    "\n",
    "    def print_all_cart_items(self):\n",
    "        for i in self.cart:\n",
    "            print(i)\n",
    "\n",
    "    def some_method():\n",
    "        print('Hello World')\n",
    "        "
   ]
  },
  {
   "cell_type": "code",
   "execution_count": 4,
   "metadata": {},
   "outputs": [],
   "source": [
    "my_store = OnlineStore('hi', 122)"
   ]
  },
  {
   "cell_type": "code",
   "execution_count": null,
   "metadata": {},
   "outputs": [],
   "source": []
  },
  {
   "cell_type": "code",
   "execution_count": 66,
   "metadata": {},
   "outputs": [
    {
     "name": "stdout",
     "output_type": "stream",
     "text": [
      "Store name changed succefully New Store\n"
     ]
    }
   ],
   "source": [
    "# Class method,\n",
    "\n",
    "OnlineStore.change_store_name('New Store')\n"
   ]
  },
  {
   "cell_type": "code",
   "execution_count": 5,
   "metadata": {},
   "outputs": [],
   "source": [
    "# Fibonacci Series\n",
    "\n",
    "# 1 ,1 ,2 ,3,5,8-.....\n",
    "\n",
    "# Using object oriented implement \n",
    "\n",
    "# Fibonnaci, __init__, sum_of_last_two , print_febonaci(till_nth_term)"
   ]
  },
  {
   "cell_type": "code",
   "execution_count": 30,
   "metadata": {},
   "outputs": [],
   "source": [
    "# Inheritance\n",
    "\n",
    "class Person:\n",
    "    Planet = 'earth'\n",
    "\n",
    "    def __init__(self, name, age):\n",
    "        self.name = name\n",
    "        self.age = age\n",
    "    \n",
    "    def introduce_yourself(self):\n",
    "        print(f'Hi, This is {self.name}')\n",
    "    \n",
    "    def print_age(self):\n",
    "        print(f'I am {self.age} years old')\n",
    "\n",
    "\n",
    "class Student(Person):\n",
    "    \n",
    "    def __init__(self, name,roll_number, student_class , age):\n",
    "         \n",
    "         super().__init__(name, age)\n",
    "         \n",
    "         self.roll_number = roll_number\n",
    "         \n",
    "         self.student_class = student_class\n",
    "    \n",
    "    def print_roll_number(self):\n",
    "        print('Running')\n",
    "        print(f'Roll Number : {self.roll_number}')\n",
    "\n",
    "    def print_class(self):\n",
    "        print(f'Class : {self.student_class}')\n",
    "\n",
    "class Boy_student(Student):\n",
    "    gender = 'male'\n",
    "\n",
    "    def __init__(self):\n",
    "        pass\n",
    "        "
   ]
  },
  {
   "cell_type": "code",
   "execution_count": 31,
   "metadata": {},
   "outputs": [],
   "source": [
    "x = Boy_student()"
   ]
  },
  {
   "cell_type": "code",
   "execution_count": 32,
   "metadata": {},
   "outputs": [
    {
     "name": "stdout",
     "output_type": "stream",
     "text": [
      "Running\n"
     ]
    },
    {
     "ename": "AttributeError",
     "evalue": "'Boy_student' object has no attribute 'roll_number'",
     "output_type": "error",
     "traceback": [
      "\u001b[0;31m---------------------------------------------------------------------------\u001b[0m",
      "\u001b[0;31mAttributeError\u001b[0m                            Traceback (most recent call last)",
      "Cell \u001b[0;32mIn[32], line 1\u001b[0m\n\u001b[0;32m----> 1\u001b[0m \u001b[43mx\u001b[49m\u001b[38;5;241;43m.\u001b[39;49m\u001b[43mprint_roll_number\u001b[49m\u001b[43m(\u001b[49m\u001b[43m)\u001b[49m\n",
      "Cell \u001b[0;32mIn[30], line 29\u001b[0m, in \u001b[0;36mStudent.print_roll_number\u001b[0;34m(self)\u001b[0m\n\u001b[1;32m     27\u001b[0m \u001b[38;5;28;01mdef\u001b[39;00m \u001b[38;5;21mprint_roll_number\u001b[39m(\u001b[38;5;28mself\u001b[39m):\n\u001b[1;32m     28\u001b[0m     \u001b[38;5;28mprint\u001b[39m(\u001b[38;5;124m'\u001b[39m\u001b[38;5;124mRunning\u001b[39m\u001b[38;5;124m'\u001b[39m)\n\u001b[0;32m---> 29\u001b[0m     \u001b[38;5;28mprint\u001b[39m(\u001b[38;5;124mf\u001b[39m\u001b[38;5;124m'\u001b[39m\u001b[38;5;124mRoll Number : \u001b[39m\u001b[38;5;132;01m{\u001b[39;00m\u001b[38;5;28mself\u001b[39m\u001b[38;5;241m.\u001b[39mroll_number\u001b[38;5;132;01m}\u001b[39;00m\u001b[38;5;124m'\u001b[39m)\n",
      "\u001b[0;31mAttributeError\u001b[0m: 'Boy_student' object has no attribute 'roll_number'"
     ]
    }
   ],
   "source": [
    "x.print_roll_number()"
   ]
  },
  {
   "cell_type": "code",
   "execution_count": 25,
   "metadata": {},
   "outputs": [],
   "source": [
    "new_student = Student('Era', 30, 12, 24)"
   ]
  },
  {
   "cell_type": "code",
   "execution_count": 26,
   "metadata": {},
   "outputs": [
    {
     "data": {
      "text/plain": [
       "'earth'"
      ]
     },
     "execution_count": 26,
     "metadata": {},
     "output_type": "execute_result"
    }
   ],
   "source": [
    "new_student.Planet"
   ]
  },
  {
   "cell_type": "code",
   "execution_count": 23,
   "metadata": {},
   "outputs": [
    {
     "name": "stdout",
     "output_type": "stream",
     "text": [
      "Hi, This is Era\n"
     ]
    }
   ],
   "source": [
    "new_student.introduce_yourself()"
   ]
  },
  {
   "cell_type": "code",
   "execution_count": 17,
   "metadata": {},
   "outputs": [
    {
     "name": "stdout",
     "output_type": "stream",
     "text": [
      "I am 24 years old\n"
     ]
    }
   ],
   "source": [
    "new_student.print_age()"
   ]
  },
  {
   "cell_type": "code",
   "execution_count": 48,
   "metadata": {},
   "outputs": [
    {
     "name": "stdout",
     "output_type": "stream",
     "text": [
      "Second\n",
      "Fourth\n",
      "Third\n"
     ]
    }
   ],
   "source": [
    "class Parent1 :\n",
    "    def __init__(self):\n",
    "        print('First')\n",
    "class Parent2 :\n",
    "    def __init__(self):\n",
    "        \n",
    "        print('Second')\n",
    "class Parent3 :\n",
    "    def __init__(self):\n",
    "        print('Third')\n",
    "class Parent4 :\n",
    "    def __init__(self):\n",
    "        print('Fourth')\n",
    "\n",
    "class Child(Parent3, Parent1,Parent2, Parent4) :\n",
    "    def __init__(self,name, age, address):\n",
    "        \n",
    "        super(Parent1,self).__init__()\n",
    "        super(Parent2,self).__init__()\n",
    "        super().__init__()\n",
    "        self.address = address\n",
    "\n",
    "\n",
    "child1 = Child('tanweer', 22, 'Berlin')\n"
   ]
  },
  {
   "cell_type": "code",
   "execution_count": 40,
   "metadata": {},
   "outputs": [
    {
     "name": "stdout",
     "output_type": "stream",
     "text": [
      "Third\n",
      "Second\n",
      "First\n"
     ]
    }
   ],
   "source": []
  },
  {
   "cell_type": "code",
   "execution_count": null,
   "metadata": {},
   "outputs": [],
   "source": []
  }
 ],
 "metadata": {
  "kernelspec": {
   "display_name": "tensorflow",
   "language": "python",
   "name": "python3"
  },
  "language_info": {
   "codemirror_mode": {
    "name": "ipython",
    "version": 3
   },
   "file_extension": ".py",
   "mimetype": "text/x-python",
   "name": "python",
   "nbconvert_exporter": "python",
   "pygments_lexer": "ipython3",
   "version": "3.10.13"
  }
 },
 "nbformat": 4,
 "nbformat_minor": 2
}
