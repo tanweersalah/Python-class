{
 "cells": [
  {
   "cell_type": "markdown",
   "id": "6d179440",
   "metadata": {},
   "source": [
    "\n",
    "#Collection\n",
    "\n",
    "# 1. Deque\n",
    "# 2. deafultdict\n",
    "# 3. namedtuple\n",
    "# 4. OrderedDict\n",
    "# 5. Counter\n",
    "# 6. Chainmap"
   ]
  },
  {
   "cell_type": "markdown",
   "id": "c7f94996",
   "metadata": {},
   "source": [
    "## namedtuple"
   ]
  },
  {
   "cell_type": "code",
   "execution_count": 1,
   "id": "9d2e492b",
   "metadata": {},
   "outputs": [],
   "source": [
    "from collections import namedtuple"
   ]
  },
  {
   "cell_type": "code",
   "execution_count": 2,
   "id": "5830953e",
   "metadata": {},
   "outputs": [],
   "source": [
    "temp_dic = {'point' : {'x' : 12, 'y' : 15}}"
   ]
  },
  {
   "cell_type": "code",
   "execution_count": 3,
   "id": "90af7f25",
   "metadata": {},
   "outputs": [
    {
     "data": {
      "text/plain": [
       "{'point': {'x': 12, 'y': 15}}"
      ]
     },
     "execution_count": 3,
     "metadata": {},
     "output_type": "execute_result"
    }
   ],
   "source": [
    "temp_dic"
   ]
  },
  {
   "cell_type": "code",
   "execution_count": 4,
   "id": "7783dbaa",
   "metadata": {},
   "outputs": [],
   "source": [
    "temp_named_tuple = namedtuple('point', 'x y')"
   ]
  },
  {
   "cell_type": "code",
   "execution_count": 15,
   "id": "d1bab510",
   "metadata": {},
   "outputs": [],
   "source": [
    "point = temp_named_tuple(12,15)"
   ]
  },
  {
   "cell_type": "code",
   "execution_count": 17,
   "id": "4005e298",
   "metadata": {},
   "outputs": [
    {
     "data": {
      "text/plain": [
       "15"
      ]
     },
     "execution_count": 17,
     "metadata": {},
     "output_type": "execute_result"
    }
   ],
   "source": [
    "point.y"
   ]
  },
  {
   "cell_type": "code",
   "execution_count": 18,
   "id": "177001c4",
   "metadata": {},
   "outputs": [],
   "source": [
    "family = namedtuple('member', ['name' ,'age' ,'address', 'child'])"
   ]
  },
  {
   "cell_type": "code",
   "execution_count": 24,
   "id": "e4297b0f",
   "metadata": {},
   "outputs": [],
   "source": [
    "family = namedtuple('member', 'name age address child')"
   ]
  },
  {
   "cell_type": "code",
   "execution_count": 20,
   "id": "2892cf8a",
   "metadata": {},
   "outputs": [],
   "source": [
    "member1=family('tanweer', '27', 'cottbus', 'none')"
   ]
  },
  {
   "cell_type": "code",
   "execution_count": 22,
   "id": "06b89420",
   "metadata": {},
   "outputs": [
    {
     "data": {
      "text/plain": [
       "member(name='tanweer', age='27', address='cottbus', child='none')"
      ]
     },
     "execution_count": 22,
     "metadata": {},
     "output_type": "execute_result"
    }
   ],
   "source": [
    "member1"
   ]
  },
  {
   "cell_type": "markdown",
   "id": "6fa20bd3",
   "metadata": {},
   "source": [
    "## Deque"
   ]
  },
  {
   "cell_type": "code",
   "execution_count": 23,
   "id": "c5a5c93c",
   "metadata": {},
   "outputs": [],
   "source": [
    "from collections import deque"
   ]
  },
  {
   "cell_type": "code",
   "execution_count": 25,
   "id": "85ab12ca",
   "metadata": {},
   "outputs": [],
   "source": [
    "ticket_queue = deque()"
   ]
  },
  {
   "cell_type": "code",
   "execution_count": 26,
   "id": "eb286e2a",
   "metadata": {},
   "outputs": [],
   "source": [
    "ticket_queue.append('madhvi')"
   ]
  },
  {
   "cell_type": "code",
   "execution_count": 27,
   "id": "a2b4750f",
   "metadata": {},
   "outputs": [
    {
     "data": {
      "text/plain": [
       "deque(['madhvi'])"
      ]
     },
     "execution_count": 27,
     "metadata": {},
     "output_type": "execute_result"
    }
   ],
   "source": [
    "ticket_queue"
   ]
  },
  {
   "cell_type": "code",
   "execution_count": 28,
   "id": "fa30d8ee",
   "metadata": {},
   "outputs": [],
   "source": [
    "ticket_queue.append('karan')"
   ]
  },
  {
   "cell_type": "code",
   "execution_count": 38,
   "id": "ff6b05c2",
   "metadata": {},
   "outputs": [
    {
     "data": {
      "text/plain": [
       "deque(['madhvi', 'karan'])"
      ]
     },
     "execution_count": 38,
     "metadata": {},
     "output_type": "execute_result"
    }
   ],
   "source": [
    "ticket_queue"
   ]
  },
  {
   "cell_type": "code",
   "execution_count": 31,
   "id": "eda70da8",
   "metadata": {},
   "outputs": [],
   "source": [
    "ticket_queue.append('tanweer')"
   ]
  },
  {
   "cell_type": "code",
   "execution_count": 33,
   "id": "17699746",
   "metadata": {},
   "outputs": [],
   "source": [
    "ticket_queue.appendleft('era')"
   ]
  },
  {
   "cell_type": "code",
   "execution_count": 35,
   "id": "ae634b83",
   "metadata": {},
   "outputs": [
    {
     "data": {
      "text/plain": [
       "'tanweer'"
      ]
     },
     "execution_count": 35,
     "metadata": {},
     "output_type": "execute_result"
    }
   ],
   "source": [
    "ticket_queue.pop()"
   ]
  },
  {
   "cell_type": "code",
   "execution_count": 37,
   "id": "1cbf3739",
   "metadata": {},
   "outputs": [
    {
     "data": {
      "text/plain": [
       "'era'"
      ]
     },
     "execution_count": 37,
     "metadata": {},
     "output_type": "execute_result"
    }
   ],
   "source": [
    "ticket_queue.popleft()"
   ]
  },
  {
   "cell_type": "code",
   "execution_count": 39,
   "id": "215ac784",
   "metadata": {},
   "outputs": [],
   "source": [
    "log_queue = deque(['madhvi', 'karan', 'tanweer', 'era'],maxlen=4)"
   ]
  },
  {
   "cell_type": "code",
   "execution_count": 40,
   "id": "7aa1f32b",
   "metadata": {},
   "outputs": [
    {
     "data": {
      "text/plain": [
       "deque(['madhvi', 'karan', 'tanweer', 'era'], maxlen=4)"
      ]
     },
     "execution_count": 40,
     "metadata": {},
     "output_type": "execute_result"
    }
   ],
   "source": [
    "log_queue"
   ]
  },
  {
   "cell_type": "code",
   "execution_count": 41,
   "id": "e0b3cce9",
   "metadata": {},
   "outputs": [],
   "source": [
    "log_queue.append('aman')"
   ]
  },
  {
   "cell_type": "code",
   "execution_count": 42,
   "id": "d0cb9285",
   "metadata": {},
   "outputs": [
    {
     "data": {
      "text/plain": [
       "deque(['karan', 'tanweer', 'era', 'aman'], maxlen=4)"
      ]
     },
     "execution_count": 42,
     "metadata": {},
     "output_type": "execute_result"
    }
   ],
   "source": [
    "log_queue"
   ]
  },
  {
   "cell_type": "code",
   "execution_count": 43,
   "id": "8261ff6b",
   "metadata": {},
   "outputs": [],
   "source": [
    "log_queue.clear()"
   ]
  },
  {
   "cell_type": "code",
   "execution_count": 44,
   "id": "0b584718",
   "metadata": {},
   "outputs": [
    {
     "data": {
      "text/plain": [
       "deque([], maxlen=4)"
      ]
     },
     "execution_count": 44,
     "metadata": {},
     "output_type": "execute_result"
    }
   ],
   "source": [
    "log_queue"
   ]
  },
  {
   "cell_type": "code",
   "execution_count": 45,
   "id": "c3195d68",
   "metadata": {},
   "outputs": [],
   "source": [
    "num_queue = deque([1,2,1,2,3,2,4,4,5,6,6,6,7,4,4,3,2,1,1,2,0])"
   ]
  },
  {
   "cell_type": "code",
   "execution_count": 50,
   "id": "d2416bc5",
   "metadata": {},
   "outputs": [
    {
     "data": {
      "text/plain": [
       "0"
      ]
     },
     "execution_count": 50,
     "metadata": {},
     "output_type": "execute_result"
    }
   ],
   "source": [
    "num_queue.count(12)"
   ]
  },
  {
   "cell_type": "code",
   "execution_count": 51,
   "id": "ea9f2c0e",
   "metadata": {},
   "outputs": [],
   "source": [
    "l = ['aaaa','bbaa','ccbb']"
   ]
  },
  {
   "cell_type": "code",
   "execution_count": 53,
   "id": "0e5748af",
   "metadata": {},
   "outputs": [
    {
     "data": {
      "text/plain": [
       "'aaaabbaaccbb'"
      ]
     },
     "execution_count": 53,
     "metadata": {},
     "output_type": "execute_result"
    }
   ],
   "source": [
    "\"\".join(l)"
   ]
  },
  {
   "cell_type": "code",
   "execution_count": 54,
   "id": "96b9ed78",
   "metadata": {},
   "outputs": [],
   "source": [
    "t_deque = deque(\"\".join(l))"
   ]
  },
  {
   "cell_type": "code",
   "execution_count": 55,
   "id": "e1e45e56",
   "metadata": {},
   "outputs": [
    {
     "data": {
      "text/plain": [
       "6"
      ]
     },
     "execution_count": 55,
     "metadata": {},
     "output_type": "execute_result"
    }
   ],
   "source": [
    "t_deque.count('a')"
   ]
  },
  {
   "cell_type": "code",
   "execution_count": 65,
   "id": "2c104848",
   "metadata": {},
   "outputs": [],
   "source": [
    "r_deque= deque(l)"
   ]
  },
  {
   "cell_type": "code",
   "execution_count": 66,
   "id": "04ffeae1",
   "metadata": {},
   "outputs": [],
   "source": [
    "r_deque.rotate()"
   ]
  },
  {
   "cell_type": "code",
   "execution_count": 67,
   "id": "7bb66048",
   "metadata": {},
   "outputs": [
    {
     "data": {
      "text/plain": [
       "deque(['bbaa', 'ccbb', 'aaaa'])"
      ]
     },
     "execution_count": 67,
     "metadata": {},
     "output_type": "execute_result"
    }
   ],
   "source": [
    "r_deque"
   ]
  },
  {
   "cell_type": "markdown",
   "id": "63ab19ec",
   "metadata": {},
   "source": [
    "## defaultdict"
   ]
  },
  {
   "cell_type": "code",
   "execution_count": 68,
   "id": "51dc8999",
   "metadata": {},
   "outputs": [],
   "source": [
    "d = {}"
   ]
  },
  {
   "cell_type": "code",
   "execution_count": 69,
   "id": "c9eb38ce",
   "metadata": {},
   "outputs": [
    {
     "ename": "KeyError",
     "evalue": "1",
     "output_type": "error",
     "traceback": [
      "\u001b[0;31m---------------------------------------------------------------------------\u001b[0m",
      "\u001b[0;31mKeyError\u001b[0m                                  Traceback (most recent call last)",
      "Cell \u001b[0;32mIn[69], line 1\u001b[0m\n\u001b[0;32m----> 1\u001b[0m \u001b[43md\u001b[49m\u001b[43m[\u001b[49m\u001b[38;5;241;43m1\u001b[39;49m\u001b[43m]\u001b[49m\n",
      "\u001b[0;31mKeyError\u001b[0m: 1"
     ]
    }
   ],
   "source": [
    "d[1]"
   ]
  },
  {
   "cell_type": "code",
   "execution_count": 71,
   "id": "f197b583",
   "metadata": {},
   "outputs": [],
   "source": [
    "from collections import defaultdict"
   ]
  },
  {
   "cell_type": "code",
   "execution_count": 86,
   "id": "6eed93aa",
   "metadata": {},
   "outputs": [],
   "source": [
    "dd = defaultdict(lambda : 0)"
   ]
  },
  {
   "cell_type": "code",
   "execution_count": 87,
   "id": "66e20d00",
   "metadata": {},
   "outputs": [
    {
     "data": {
      "text/plain": [
       "0"
      ]
     },
     "execution_count": 87,
     "metadata": {},
     "output_type": "execute_result"
    }
   ],
   "source": [
    "dd['hi']"
   ]
  },
  {
   "cell_type": "code",
   "execution_count": 73,
   "id": "743b982f",
   "metadata": {},
   "outputs": [
    {
     "ename": "SyntaxError",
     "evalue": "invalid syntax (1542272963.py, line 1)",
     "output_type": "error",
     "traceback": [
      "\u001b[0;36m  Cell \u001b[0;32mIn[73], line 1\u001b[0;36m\u001b[0m\n\u001b[0;31m    print(lambda 2 : 2**2)\u001b[0m\n\u001b[0m                 ^\u001b[0m\n\u001b[0;31mSyntaxError\u001b[0m\u001b[0;31m:\u001b[0m invalid syntax\n"
     ]
    }
   ],
   "source": []
  },
  {
   "cell_type": "code",
   "execution_count": 80,
   "id": "3c9ec276",
   "metadata": {},
   "outputs": [],
   "source": [
    "un_sorted = [\n",
    "    ['era', 24, 67 ], \n",
    "            \n",
    "    ['aman', 23, 34], \n",
    "             \n",
    "    ['tanweer', 26, 21]\n",
    "]"
   ]
  },
  {
   "cell_type": "code",
   "execution_count": 83,
   "id": "e15d7350",
   "metadata": {},
   "outputs": [
    {
     "data": {
      "text/plain": [
       "[['tanweer', 26, 21], ['aman', 23, 34], ['era', 24, 67]]"
      ]
     },
     "execution_count": 83,
     "metadata": {},
     "output_type": "execute_result"
    }
   ],
   "source": [
    "sorted(un_sorted, key = lambda x : x[2])"
   ]
  },
  {
   "cell_type": "markdown",
   "id": "805050ae",
   "metadata": {},
   "source": [
    "## Ordered Dictionary"
   ]
  },
  {
   "cell_type": "code",
   "execution_count": 88,
   "id": "8b869d02",
   "metadata": {},
   "outputs": [],
   "source": [
    "from collections import OrderedDict"
   ]
  },
  {
   "cell_type": "code",
   "execution_count": null,
   "id": "360e584a",
   "metadata": {},
   "outputs": [],
   "source": []
  }
 ],
 "metadata": {
  "kernelspec": {
   "display_name": "Python 3 (ipykernel)",
   "language": "python",
   "name": "python3"
  },
  "language_info": {
   "codemirror_mode": {
    "name": "ipython",
    "version": 3
   },
   "file_extension": ".py",
   "mimetype": "text/x-python",
   "name": "python",
   "nbconvert_exporter": "python",
   "pygments_lexer": "ipython3",
   "version": "3.10.9"
  }
 },
 "nbformat": 4,
 "nbformat_minor": 5
}
