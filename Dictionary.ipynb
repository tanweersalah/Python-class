{
 "cells": [
  {
   "cell_type": "markdown",
   "id": "98d3dffa-8eda-4592-a2f5-acb07e46ed2d",
   "metadata": {},
   "source": [
    "# Dictionary - Collection of key value pair"
   ]
  },
  {
   "cell_type": "code",
   "execution_count": 3,
   "id": "57fcd237-d980-462c-a11e-30079b8a750d",
   "metadata": {},
   "outputs": [
    {
     "name": "stdout",
     "output_type": "stream",
     "text": [
      "dict: {}, type: <class 'dict'>\n"
     ]
    }
   ],
   "source": [
    "my_empty_dict = {}  \n",
    "# alternative: \n",
    "my_empty_dict_2 = dict()\n",
    "print(f\"dict: {my_empty_dict}, type: {type(my_empty_dict)}\")"
   ]
  },
  {
   "cell_type": "code",
   "execution_count": 6,
   "id": "036226f8-e374-48e3-84c6-02af221c7889",
   "metadata": {},
   "outputs": [
    {
     "name": "stdout",
     "output_type": "stream",
     "text": [
      "{'value1': 1.6, 'value2': 10, 'name': 'John Doe'}\n",
      "{'value2': 10, 'name': 'John Doe', 'value1': 1.6}\n",
      "equals: True\n",
      "length: 3\n"
     ]
    }
   ],
   "source": [
    "dict1 = {\"value1\": 1.6, \"value2\": 10, \"name\": \"John Doe\"}\n",
    "\n",
    "dict2 = dict( value2=10, name=\"John Doe\", value1=1.6)\n",
    "\n",
    "print(dict1)\n",
    "print(dict2)\n",
    "\n",
    "print(f\"equals: {dict1 == dict2}\")\n",
    "print(f\"length: {len(dict1)}\")\n",
    "\n"
   ]
  },
  {
   "cell_type": "code",
   "execution_count": 7,
   "id": "ef15709b-7b41-4f39-bcc5-aea636183c0b",
   "metadata": {},
   "outputs": [
    {
     "name": "stdout",
     "output_type": "stream",
     "text": [
      "Help on method_descriptor:\n",
      "\n",
      "keys(...)\n",
      "    D.keys() -> a set-like object providing a view on D's keys\n",
      "\n"
     ]
    }
   ],
   "source": [
    "help(dict.keys)"
   ]
  },
  {
   "cell_type": "code",
   "execution_count": 8,
   "id": "3d8c5cfd-d37e-468b-bc15-3f7ff0630164",
   "metadata": {},
   "outputs": [
    {
     "data": {
      "text/plain": [
       "dict_keys(['value1', 'value2', 'name'])"
      ]
     },
     "execution_count": 8,
     "metadata": {},
     "output_type": "execute_result"
    }
   ],
   "source": [
    "dict1.keys()"
   ]
  },
  {
   "cell_type": "code",
   "execution_count": 9,
   "id": "8abf5c98-51e7-4279-ab19-75560f5e7f9e",
   "metadata": {},
   "outputs": [
    {
     "name": "stdout",
     "output_type": "stream",
     "text": [
      "Help on method_descriptor:\n",
      "\n",
      "values(...)\n",
      "    D.values() -> an object providing a view on D's values\n",
      "\n"
     ]
    }
   ],
   "source": [
    "help(dict.values)"
   ]
  },
  {
   "cell_type": "code",
   "execution_count": 11,
   "id": "a372bca2-1ab5-4296-856a-fc2352e02fdb",
   "metadata": {},
   "outputs": [
    {
     "name": "stdout",
     "output_type": "stream",
     "text": [
      "Help on method_descriptor:\n",
      "\n",
      "items(...)\n",
      "    D.items() -> a set-like object providing a view on D's items\n",
      "\n"
     ]
    }
   ],
   "source": [
    "help(dict.items)"
   ]
  },
  {
   "cell_type": "code",
   "execution_count": 12,
   "id": "255cbf85-6f5d-4cd0-8ac3-6ce1f5d6f998",
   "metadata": {},
   "outputs": [
    {
     "data": {
      "text/plain": [
       "dict_items([('value2', 10), ('name', 'John Doe'), ('value1', 1.6)])"
      ]
     },
     "execution_count": 12,
     "metadata": {},
     "output_type": "execute_result"
    }
   ],
   "source": [
    "dict2.items()"
   ]
  },
  {
   "cell_type": "code",
   "execution_count": 14,
   "id": "7e3fca96-b274-4aa4-a3dc-10a3d1b3874b",
   "metadata": {},
   "outputs": [
    {
     "name": "stdout",
     "output_type": "stream",
     "text": [
      "value2 10\n",
      "name John Doe\n",
      "value1 1.6\n"
     ]
    }
   ],
   "source": [
    "for k,v in dict2.items():\n",
    "    print(k,v)"
   ]
  },
  {
   "cell_type": "code",
   "execution_count": 17,
   "id": "56063c39-b6f4-4d0c-8680-e4ce0f34fe71",
   "metadata": {},
   "outputs": [
    {
     "name": "stdout",
     "output_type": "stream",
     "text": [
      "{'key1': 'new value', 'key2': 99}\n",
      "value of key1: new value\n"
     ]
    }
   ],
   "source": [
    "my_dict = {}\n",
    "my_dict[\"key1\"] = \"value1\"\n",
    "my_dict[\"key2\"] = 99\n",
    "my_dict[\"key1\"] = \"new value\"  # overriding existing value\n",
    "print(my_dict)\n",
    "print(f\"value of key1: {my_dict['key1']}\")"
   ]
  },
  {
   "cell_type": "code",
   "execution_count": 21,
   "id": "b09af646-a2a5-470a-8f66-74bbad8147b6",
   "metadata": {},
   "outputs": [
    {
     "ename": "KeyError",
     "evalue": "'key1'",
     "output_type": "error",
     "traceback": [
      "\u001b[0;31m---------------------------------------------------------------------------\u001b[0m",
      "\u001b[0;31mKeyError\u001b[0m                                  Traceback (most recent call last)",
      "Cell \u001b[0;32mIn[21], line 1\u001b[0m\n\u001b[0;32m----> 1\u001b[0m \u001b[38;5;28;01mdel\u001b[39;00m my_dict[\u001b[38;5;124m\"\u001b[39m\u001b[38;5;124mkey1\u001b[39m\u001b[38;5;124m\"\u001b[39m]\n",
      "\u001b[0;31mKeyError\u001b[0m: 'key1'"
     ]
    }
   ],
   "source": [
    "del my_dict[\"key1\"]"
   ]
  },
  {
   "cell_type": "code",
   "execution_count": 19,
   "id": "d613abef-c288-477f-8497-7a2f46f819a3",
   "metadata": {},
   "outputs": [
    {
     "data": {
      "text/plain": [
       "{'key2': 99}"
      ]
     },
     "execution_count": 19,
     "metadata": {},
     "output_type": "execute_result"
    }
   ],
   "source": [
    "my_dict"
   ]
  },
  {
   "cell_type": "code",
   "execution_count": 23,
   "id": "f22b8881-1cd1-4d0a-9eaa-04a62c3a692b",
   "metadata": {},
   "outputs": [
    {
     "name": "stdout",
     "output_type": "stream",
     "text": [
      "Help on method_descriptor:\n",
      "\n",
      "pop(...)\n",
      "    D.pop(k[,d]) -> v, remove specified key and return the corresponding value.\n",
      "    \n",
      "    If the key is not found, return the default if given; otherwise,\n",
      "    raise a KeyError.\n",
      "\n"
     ]
    }
   ],
   "source": [
    "help(dict.pop)"
   ]
  },
  {
   "cell_type": "code",
   "execution_count": 24,
   "id": "4f200f0c-1e43-4086-a110-4f27f3334aae",
   "metadata": {},
   "outputs": [
    {
     "name": "stdout",
     "output_type": "stream",
     "text": [
      "Help on method_descriptor:\n",
      "\n",
      "popitem(self, /)\n",
      "    Remove and return a (key, value) pair as a 2-tuple.\n",
      "    \n",
      "    Pairs are returned in LIFO (last-in, first-out) order.\n",
      "    Raises KeyError if the dict is empty.\n",
      "\n"
     ]
    }
   ],
   "source": [
    "help(dict.popitem)"
   ]
  },
  {
   "cell_type": "code",
   "execution_count": 25,
   "id": "4ac63bd3-bb23-4a0c-80f3-50af67cc9cc1",
   "metadata": {},
   "outputs": [],
   "source": [
    "dict1 = {\"value1\": 1.6, \"value2\": 10, \"name\": \"John Doe\"}"
   ]
  },
  {
   "cell_type": "code",
   "execution_count": 26,
   "id": "17011731-aec3-463c-9822-10234201a78d",
   "metadata": {},
   "outputs": [
    {
     "data": {
      "text/plain": [
       "1.6"
      ]
     },
     "execution_count": 26,
     "metadata": {},
     "output_type": "execute_result"
    }
   ],
   "source": [
    "dict1.pop('value1')"
   ]
  },
  {
   "cell_type": "code",
   "execution_count": 27,
   "id": "e2b14eec-25a2-4acb-bc2a-3aca02aba1f3",
   "metadata": {},
   "outputs": [
    {
     "data": {
      "text/plain": [
       "{'value2': 10, 'name': 'John Doe'}"
      ]
     },
     "execution_count": 27,
     "metadata": {},
     "output_type": "execute_result"
    }
   ],
   "source": [
    "dict1"
   ]
  },
  {
   "cell_type": "code",
   "execution_count": 28,
   "id": "81158216-824a-4089-afb2-b810d421b549",
   "metadata": {},
   "outputs": [
    {
     "data": {
      "text/plain": [
       "('name', 'John Doe')"
      ]
     },
     "execution_count": 28,
     "metadata": {},
     "output_type": "execute_result"
    }
   ],
   "source": [
    "dict1.popitem()"
   ]
  },
  {
   "cell_type": "code",
   "execution_count": 29,
   "id": "4bc93c38-804d-4866-8bb0-7d8f032f9cac",
   "metadata": {},
   "outputs": [
    {
     "name": "stdout",
     "output_type": "stream",
     "text": [
      "my_dict={'ham': 'good', 'carrot': 'super tasty', 'sausage': 'best ever'}\n",
      "other: {'ham': 'good', 'carrot': 'super tasty', 'sausage': 'best ever'}\n",
      "equals: True\n"
     ]
    }
   ],
   "source": [
    "my_dict = {\"ham\": \"good\", \"carrot\": \"semi good\"}\n",
    "my_other_dict = my_dict\n",
    "my_other_dict[\"carrot\"] = \"super tasty\"\n",
    "my_other_dict[\"sausage\"] = \"best ever\"\n",
    "print(f\"{my_dict=}\\nother: {my_other_dict}\")\n",
    "print(f\"equals: {my_dict == my_other_dict}\")"
   ]
  },
  {
   "cell_type": "code",
   "execution_count": 30,
   "id": "2502fe0f-53a3-4ed2-9d70-b892a5d91239",
   "metadata": {},
   "outputs": [
    {
     "name": "stdout",
     "output_type": "stream",
     "text": [
      "my_dict={'ham': 'good', 'carrot': 'semi good'}\n",
      "other: {'ham': 'good', 'carrot': 'semi good', 'beer': 'decent'}\n",
      "equals: False\n"
     ]
    }
   ],
   "source": [
    "my_dict = {\"ham\": \"good\", \"carrot\": \"semi good\"}\n",
    "my_other_dict = dict(my_dict)\n",
    "my_other_dict[\"beer\"] = \"decent\"\n",
    "print(f\"{my_dict=}\\nother: {my_other_dict}\")\n",
    "print(f\"equals: {my_dict == my_other_dict}\")"
   ]
  },
  {
   "cell_type": "code",
   "execution_count": 31,
   "id": "97978c4d-3997-49c7-ae98-71d2da64dc35",
   "metadata": {},
   "outputs": [
    {
     "name": "stdout",
     "output_type": "stream",
     "text": [
      "Help on method_descriptor:\n",
      "\n",
      "get(self, key, default=None, /)\n",
      "    Return the value for key if key is in the dictionary, else default.\n",
      "\n"
     ]
    }
   ],
   "source": [
    "help(dict.get)"
   ]
  },
  {
   "cell_type": "code",
   "execution_count": 35,
   "id": "cfce3c43-c387-42d4-8bdb-e7d11121a3a3",
   "metadata": {},
   "outputs": [
    {
     "name": "stdout",
     "output_type": "stream",
     "text": [
      "d: None\n",
      "d: my default value\n"
     ]
    }
   ],
   "source": [
    "my_dict = {\"a\": 1, \"b\": 2, \"c\": 3}\n",
    "value_of_d = my_dict.get(\"d\")\n",
    "print(f\"d: {value_of_d}\")\n",
    "\n",
    "value_of_d = my_dict.get(\"f\", \"my default value\")\n",
    "print(f\"d: {value_of_d}\")"
   ]
  },
  {
   "cell_type": "code",
   "execution_count": 34,
   "id": "c98f1476-3c6a-4a72-827e-80de8d7048b9",
   "metadata": {
    "scrolled": true
   },
   "outputs": [
    {
     "name": "stdout",
     "output_type": "stream",
     "text": [
      "Help on method_descriptor:\n",
      "\n",
      "setdefault(self, key, default=None, /)\n",
      "    Insert key with a value of default if key is not in the dictionary.\n",
      "    \n",
      "    Return the value for key if key is in the dictionary, else default.\n",
      "\n"
     ]
    }
   ],
   "source": [
    "help(dict.setdefault)"
   ]
  },
  {
   "cell_type": "code",
   "execution_count": 36,
   "id": "aac2181d-3e07-4d5e-97fc-247381884a4b",
   "metadata": {},
   "outputs": [
    {
     "name": "stdout",
     "output_type": "stream",
     "text": [
      "a: 1\n",
      "d: my default value\n",
      "my_dict: {'a': 1, 'b': 2, 'c': 3, 'd': 'my default value'}\n"
     ]
    }
   ],
   "source": [
    "my_dict = {\"a\": 1, \"b\": 2, \"c\": 3}\n",
    "a = my_dict.setdefault(\"a\", \"my default value\")\n",
    "d = my_dict.setdefault(\"d\", \"my default value\")\n",
    "print(f\"a: {a}\\nd: {d}\\nmy_dict: {my_dict}\")"
   ]
  },
  {
   "cell_type": "code",
   "execution_count": 37,
   "id": "5ea5c195-2d15-41cc-a6fd-ca3ffb24ce0e",
   "metadata": {},
   "outputs": [
    {
     "name": "stdout",
     "output_type": "stream",
     "text": [
      "Help on method_descriptor:\n",
      "\n",
      "update(...)\n",
      "    D.update([E, ]**F) -> None.  Update D from dict/iterable E and F.\n",
      "    If E is present and has a .keys() method, then does:  for k in E: D[k] = E[k]\n",
      "    If E is present and lacks a .keys() method, then does:  for k, v in E: D[k] = v\n",
      "    In either case, this is followed by: for k in F:  D[k] = F[k]\n",
      "\n"
     ]
    }
   ],
   "source": [
    "help(dict.update)"
   ]
  },
  {
   "cell_type": "code",
   "execution_count": 41,
   "id": "17c6f079-0785-4483-b72a-50fe1ce47cbb",
   "metadata": {},
   "outputs": [
    {
     "name": "stdout",
     "output_type": "stream",
     "text": [
      "{'a': 3, 'b': 3}\n",
      "{'a': 3, 'b': 4}\n"
     ]
    }
   ],
   "source": [
    "dict1 = {\"a\": 1, \"b\": 3}\n",
    "dict2 = {\"a\": 3}\n",
    "dict1.update(dict2)\n",
    "print(dict1)\n",
    "\n",
    "# If they have same keys:\n",
    "dict1.update({\"b\": 4})\n",
    "print(dict1)"
   ]
  },
  {
   "cell_type": "code",
   "execution_count": 42,
   "id": "1b6cf17f-e501-40e6-a16b-6383e0e39439",
   "metadata": {},
   "outputs": [
    {
     "ename": "TypeError",
     "evalue": "unhashable type: 'list'",
     "output_type": "error",
     "traceback": [
      "\u001b[0;31m---------------------------------------------------------------------------\u001b[0m",
      "\u001b[0;31mTypeError\u001b[0m                                 Traceback (most recent call last)",
      "Cell \u001b[0;32mIn[42], line 1\u001b[0m\n\u001b[0;32m----> 1\u001b[0m bad_dict \u001b[38;5;241m=\u001b[39m {[\u001b[38;5;124m'\u001b[39m\u001b[38;5;124mmy_list\u001b[39m\u001b[38;5;124m'\u001b[39m]: \u001b[38;5;124m'\u001b[39m\u001b[38;5;124mvalue\u001b[39m\u001b[38;5;124m'\u001b[39m}\n",
      "\u001b[0;31mTypeError\u001b[0m: unhashable type: 'list'"
     ]
    }
   ],
   "source": [
    "bad_dict = {['my_list']: 'value'}  # Raises TypeError"
   ]
  },
  {
   "cell_type": "code",
   "execution_count": 43,
   "id": "fd02d220-994b-4963-812f-3a7a346cd259",
   "metadata": {},
   "outputs": [
    {
     "name": "stdout",
     "output_type": "stream",
     "text": [
      "{'my key': ['Python', 'is', 'still', 'cool']}\n"
     ]
    }
   ],
   "source": [
    "good_dict = {\"my key\": [\"Python\", \"is\", \"still\", \"cool\"]}\n",
    "print(good_dict)"
   ]
  },
  {
   "cell_type": "code",
   "execution_count": null,
   "id": "37e6d121-fc04-445a-8642-74309ff16745",
   "metadata": {},
   "outputs": [],
   "source": []
  }
 ],
 "metadata": {
  "kernelspec": {
   "display_name": "Python 3 (ipykernel)",
   "language": "python",
   "name": "python3"
  },
  "language_info": {
   "codemirror_mode": {
    "name": "ipython",
    "version": 3
   },
   "file_extension": ".py",
   "mimetype": "text/x-python",
   "name": "python",
   "nbconvert_exporter": "python",
   "pygments_lexer": "ipython3",
   "version": "3.10.13"
  }
 },
 "nbformat": 4,
 "nbformat_minor": 5
}
