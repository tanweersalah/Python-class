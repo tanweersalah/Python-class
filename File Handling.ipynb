{
 "cells": [
  {
   "cell_type": "markdown",
   "id": "9272cb03-648a-44c8-83a7-a6ddcec2ebe0",
   "metadata": {},
   "source": [
    "# OS Module"
   ]
  },
  {
   "cell_type": "code",
   "execution_count": 1,
   "id": "a9567450-7e8d-4c2d-a35b-8d84d879daa0",
   "metadata": {},
   "outputs": [],
   "source": [
    "import os"
   ]
  },
  {
   "cell_type": "code",
   "execution_count": 2,
   "id": "bed21383-8c6b-44bd-8704-3cf182560877",
   "metadata": {},
   "outputs": [
    {
     "name": "stdout",
     "output_type": "stream",
     "text": [
      "Help on built-in function getcwd in module posix:\n",
      "\n",
      "getcwd()\n",
      "    Return a unicode string representing the current working directory.\n",
      "\n"
     ]
    }
   ],
   "source": [
    "help(os.getcwd)"
   ]
  },
  {
   "cell_type": "code",
   "execution_count": 3,
   "id": "9a1fbd7c-69f4-4a5e-a784-548309f9b1c4",
   "metadata": {},
   "outputs": [],
   "source": [
    "cwd = os.getcwd()"
   ]
  },
  {
   "cell_type": "code",
   "execution_count": 4,
   "id": "7bfd3dac-2841-479a-bc59-ef7f1b60c64f",
   "metadata": {},
   "outputs": [
    {
     "name": "stdout",
     "output_type": "stream",
     "text": [
      "Help on built-in function listdir in module posix:\n",
      "\n",
      "listdir(path=None)\n",
      "    Return a list containing the names of the files in the directory.\n",
      "    \n",
      "    path can be specified as either str, bytes, or a path-like object.  If path is bytes,\n",
      "      the filenames returned will also be bytes; in all other circumstances\n",
      "      the filenames returned will be str.\n",
      "    If path is None, uses the path='.'.\n",
      "    On some platforms, path may also be specified as an open file descriptor;\\\n",
      "      the file descriptor must refer to a directory.\n",
      "      If this functionality is unavailable, using it raises NotImplementedError.\n",
      "    \n",
      "    The list is in arbitrary order.  It does not include the special\n",
      "    entries '.' and '..' even if they are present in the directory.\n",
      "\n"
     ]
    }
   ],
   "source": [
    "help(os.listdir)"
   ]
  },
  {
   "cell_type": "code",
   "execution_count": 5,
   "id": "50f5161c-0ec4-4b23-b6bc-d8f414950513",
   "metadata": {},
   "outputs": [
    {
     "data": {
      "text/plain": [
       "['Tuple.ipynb',\n",
       " '.DS_Store',\n",
       " 'Set.ipynb',\n",
       " 'Conditional.ipynb',\n",
       " 'List.ipynb',\n",
       " 'Dictionary.ipynb',\n",
       " 'String.ipynb',\n",
       " 'For loop.ipynb',\n",
       " 'Functions.ipynb',\n",
       " 'Collections.ipynb',\n",
       " 'Exercises',\n",
       " 'File Handling.ipynb',\n",
       " 'Number.ipynb',\n",
       " '.ipynb_checkpoints',\n",
       " '.git',\n",
       " 'Itertools.ipynb',\n",
       " 'Exception Handling.ipynb']"
      ]
     },
     "execution_count": 5,
     "metadata": {},
     "output_type": "execute_result"
    }
   ],
   "source": [
    "os.listdir(cwd)"
   ]
  },
  {
   "cell_type": "code",
   "execution_count": 6,
   "id": "6240c13c-071a-4c18-9d35-5d6a06238d39",
   "metadata": {},
   "outputs": [
    {
     "name": "stdout",
     "output_type": "stream",
     "text": [
      "Help on built-in function mkdir in module posix:\n",
      "\n",
      "mkdir(path, mode=511, *, dir_fd=None)\n",
      "    Create a directory.\n",
      "    \n",
      "    If dir_fd is not None, it should be a file descriptor open to a directory,\n",
      "      and path should be relative; path will then be relative to that directory.\n",
      "    dir_fd may not be implemented on your platform.\n",
      "      If it is unavailable, using it will raise a NotImplementedError.\n",
      "    \n",
      "    The mode argument is ignored on Windows. Where it is used, the current umask\n",
      "    value is first masked out.\n",
      "\n"
     ]
    }
   ],
   "source": [
    "help(os.mkdir)"
   ]
  },
  {
   "cell_type": "code",
   "execution_count": 7,
   "id": "992a926f-27ff-4385-9e36-c52bc5c0f632",
   "metadata": {},
   "outputs": [],
   "source": [
    "folder_name = 'my_new_folder'\n",
    "os.mkdir(cwd + '/' +folder_name)"
   ]
  },
  {
   "cell_type": "code",
   "execution_count": 8,
   "id": "520c31dd-5fe4-47c4-a1d4-4b7bb63b48f5",
   "metadata": {},
   "outputs": [
    {
     "data": {
      "text/plain": [
       "'/Users/tanweersalah/Desktop/University/Python Class/Class Notebook'"
      ]
     },
     "execution_count": 8,
     "metadata": {},
     "output_type": "execute_result"
    }
   ],
   "source": [
    "cwd"
   ]
  },
  {
   "cell_type": "code",
   "execution_count": 9,
   "id": "858cf369-984d-41a2-bbe1-a7c591813bde",
   "metadata": {},
   "outputs": [
    {
     "data": {
      "text/plain": [
       "'/Users/tanweersalah/Desktop/University/Python Class/Class Notebook/my_new_folder_2/another_folder'"
      ]
     },
     "execution_count": 9,
     "metadata": {},
     "output_type": "execute_result"
    }
   ],
   "source": [
    "folder_name2 = 'my_new_folder_2'\n",
    "folder_path = os.path.join(cwd,folder_name2, 'another_folder')\n",
    "folder_path"
   ]
  },
  {
   "cell_type": "code",
   "execution_count": 10,
   "id": "53e4f269-adab-47ed-8eca-38412f964974",
   "metadata": {},
   "outputs": [
    {
     "ename": "FileNotFoundError",
     "evalue": "[Errno 2] No such file or directory: '/Users/tanweersalah/Desktop/University/Python Class/Class Notebook/my_new_folder_2/another_folder'",
     "output_type": "error",
     "traceback": [
      "\u001b[0;31m---------------------------------------------------------------------------\u001b[0m",
      "\u001b[0;31mFileNotFoundError\u001b[0m                         Traceback (most recent call last)",
      "Cell \u001b[0;32mIn[10], line 1\u001b[0m\n\u001b[0;32m----> 1\u001b[0m \u001b[43mos\u001b[49m\u001b[38;5;241;43m.\u001b[39;49m\u001b[43mmkdir\u001b[49m\u001b[43m(\u001b[49m\u001b[43mfolder_path\u001b[49m\u001b[43m)\u001b[49m\n",
      "\u001b[0;31mFileNotFoundError\u001b[0m: [Errno 2] No such file or directory: '/Users/tanweersalah/Desktop/University/Python Class/Class Notebook/my_new_folder_2/another_folder'"
     ]
    }
   ],
   "source": [
    "os.mkdir(folder_path)"
   ]
  },
  {
   "cell_type": "code",
   "execution_count": null,
   "id": "5536433b-8b79-4136-83ca-a9d6e3fb9940",
   "metadata": {},
   "outputs": [
    {
     "data": {
      "text/plain": [
       "'/my/root/directory/in/here/hello'"
      ]
     },
     "execution_count": 19,
     "metadata": {},
     "output_type": "execute_result"
    }
   ],
   "source": [
    "os.path.join('/my/root/directory', 'in', 'here', 'hello')"
   ]
  },
  {
   "cell_type": "code",
   "execution_count": null,
   "id": "be9ae390-2dc2-4e88-b723-c5f87d7c80b7",
   "metadata": {},
   "outputs": [
    {
     "name": "stdout",
     "output_type": "stream",
     "text": [
      "Help on function makedirs in module os:\n",
      "\n",
      "makedirs(name, mode=511, exist_ok=False)\n",
      "    makedirs(name [, mode=0o777][, exist_ok=False])\n",
      "    \n",
      "    Super-mkdir; create a leaf directory and all intermediate ones.  Works like\n",
      "    mkdir, except that any intermediate path segment (not just the rightmost)\n",
      "    will be created if it does not exist. If the target directory already\n",
      "    exists, raise an OSError if exist_ok is False. Otherwise no exception is\n",
      "    raised.  This is recursive.\n",
      "\n"
     ]
    }
   ],
   "source": [
    "help(os.makedirs)"
   ]
  },
  {
   "cell_type": "code",
   "execution_count": null,
   "id": "8639e8be-7e0d-43f8-a201-2b20a22b0758",
   "metadata": {},
   "outputs": [],
   "source": [
    "os.makedirs(folder_path)"
   ]
  },
  {
   "cell_type": "code",
   "execution_count": null,
   "id": "d20d2a15-70a7-40e1-ad93-7ede71a4248a",
   "metadata": {},
   "outputs": [
    {
     "name": "stdout",
     "output_type": "stream",
     "text": [
      "Help on built-in function remove in module posix:\n",
      "\n",
      "remove(path, *, dir_fd=None)\n",
      "    Remove a file (same as unlink()).\n",
      "    \n",
      "    If dir_fd is not None, it should be a file descriptor open to a directory,\n",
      "      and path should be relative; path will then be relative to that directory.\n",
      "    dir_fd may not be implemented on your platform.\n",
      "      If it is unavailable, using it will raise a NotImplementedError.\n",
      "\n"
     ]
    }
   ],
   "source": [
    "help(os.remove)"
   ]
  },
  {
   "cell_type": "code",
   "execution_count": null,
   "id": "d0a42677-d808-4710-b70c-f3d0c1befef2",
   "metadata": {},
   "outputs": [
    {
     "ename": "FileNotFoundError",
     "evalue": "[Errno 2] No such file or directory: 'renameme.txt'",
     "output_type": "error",
     "traceback": [
      "\u001b[0;31m---------------------------------------------------------------------------\u001b[0m",
      "\u001b[0;31mFileNotFoundError\u001b[0m                         Traceback (most recent call last)",
      "Cell \u001b[0;32mIn[30], line 1\u001b[0m\n\u001b[0;32m----> 1\u001b[0m \u001b[43mos\u001b[49m\u001b[38;5;241;43m.\u001b[39;49m\u001b[43mremove\u001b[49m\u001b[43m(\u001b[49m\u001b[38;5;124;43m'\u001b[39;49m\u001b[38;5;124;43mrenameme.txt\u001b[39;49m\u001b[38;5;124;43m'\u001b[39;49m\u001b[43m)\u001b[49m\n",
      "\u001b[0;31mFileNotFoundError\u001b[0m: [Errno 2] No such file or directory: 'renameme.txt'"
     ]
    }
   ],
   "source": [
    "os.remove('renameme.txt')"
   ]
  },
  {
   "cell_type": "code",
   "execution_count": null,
   "id": "7f7779fa-949b-4042-a356-520c5f7b5bb2",
   "metadata": {},
   "outputs": [
    {
     "name": "stdout",
     "output_type": "stream",
     "text": [
      "Help on built-in function rename in module posix:\n",
      "\n",
      "rename(src, dst, *, src_dir_fd=None, dst_dir_fd=None)\n",
      "    Rename a file or directory.\n",
      "    \n",
      "    If either src_dir_fd or dst_dir_fd is not None, it should be a file\n",
      "      descriptor open to a directory, and the respective path string (src or dst)\n",
      "      should be relative; the path will then be relative to that directory.\n",
      "    src_dir_fd and dst_dir_fd, may not be implemented on your platform.\n",
      "      If they are unavailable, using them will raise a NotImplementedError.\n",
      "\n"
     ]
    }
   ],
   "source": [
    "help(os.rename)"
   ]
  },
  {
   "cell_type": "code",
   "execution_count": null,
   "id": "a88fc743-b9ca-4c8f-9ddd-64fa0de97857",
   "metadata": {},
   "outputs": [],
   "source": [
    "os.rename( 'new_name.txt', 'renameme.txt')"
   ]
  },
  {
   "cell_type": "code",
   "execution_count": null,
   "id": "fdf0e6de-0c61-4b21-82ca-bb5cf59dd457",
   "metadata": {},
   "outputs": [
    {
     "name": "stdout",
     "output_type": "stream",
     "text": [
      "On branch master\n",
      "Changes not staged for commit:\n",
      "  (use \"git add/rm <file>...\" to update what will be committed)\n",
      "  (use \"git restore <file>...\" to discard changes in working directory)\n",
      "\t\u001b[31mdeleted:    .ipynb_checkpoints/Untitled-checkpoint.ipynb\u001b[m\n",
      "\n",
      "Untracked files:\n",
      "  (use \"git add <file>...\" to include in what will be committed)\n",
      "\t\u001b[31m.ipynb_checkpoints/Exception Handling-checkpoint.ipynb\u001b[m\n",
      "\t\u001b[31m.ipynb_checkpoints/File Handling-checkpoint.ipynb\u001b[m\n",
      "\t\u001b[31m.ipynb_checkpoints/Set-checkpoint.ipynb\u001b[m\n",
      "\t\u001b[31m.ipynb_checkpoints/Tuple-checkpoint.ipynb\u001b[m\n",
      "\t\u001b[31mException Handling.ipynb\u001b[m\n",
      "\t\u001b[31mFile Handling.ipynb\u001b[m\n",
      "\t\u001b[31mSet.ipynb\u001b[m\n",
      "\t\u001b[31mTuple.ipynb\u001b[m\n",
      "\n",
      "no changes added to commit (use \"git add\" and/or \"git commit -a\")\n"
     ]
    }
   ],
   "source": [
    "! git status"
   ]
  },
  {
   "cell_type": "code",
   "execution_count": null,
   "id": "977bcf46-ed04-4df9-bf07-b8a3c331afd4",
   "metadata": {},
   "outputs": [],
   "source": [
    "!git add ."
   ]
  },
  {
   "cell_type": "code",
   "execution_count": null,
   "id": "4e6fccc0-bb64-4316-8945-1875b9462e17",
   "metadata": {},
   "outputs": [
    {
     "name": "stdout",
     "output_type": "stream",
     "text": [
      "[master 8ae5d36] 9 march\n",
      " 9 files changed, 2148 insertions(+), 333 deletions(-)\n",
      " create mode 100644 .ipynb_checkpoints/Exception Handling-checkpoint.ipynb\n",
      " create mode 100644 .ipynb_checkpoints/File Handling-checkpoint.ipynb\n",
      " create mode 100644 .ipynb_checkpoints/Set-checkpoint.ipynb\n",
      " create mode 100644 .ipynb_checkpoints/Tuple-checkpoint.ipynb\n",
      " delete mode 100644 .ipynb_checkpoints/Untitled-checkpoint.ipynb\n",
      " create mode 100644 Exception Handling.ipynb\n",
      " create mode 100644 File Handling.ipynb\n",
      " create mode 100644 Set.ipynb\n",
      " create mode 100644 Tuple.ipynb\n"
     ]
    }
   ],
   "source": [
    "!git commit -m '9 march'"
   ]
  },
  {
   "cell_type": "code",
   "execution_count": null,
   "id": "32292668-ae0a-4bcf-97d2-1a8d8bfa6632",
   "metadata": {},
   "outputs": [
    {
     "name": "stdout",
     "output_type": "stream",
     "text": [
      "Enumerating objects: 10, done.\n",
      "Counting objects: 100% (10/10), done.\n",
      "Delta compression using up to 10 threads\n",
      "Compressing objects: 100% (8/8), done.\n",
      "Writing objects: 100% (8/8), 7.57 KiB | 7.57 MiB/s, done.\n",
      "Total 8 (delta 2), reused 0 (delta 0), pack-reused 0\n",
      "remote: Resolving deltas: 100% (2/2), completed with 1 local object.\u001b[K\n",
      "To https://github.com/tanweersalah/Python-class.git\n",
      "   abdebb1..8ae5d36  master -> master\n"
     ]
    }
   ],
   "source": [
    "!git push origin master"
   ]
  },
  {
   "cell_type": "code",
   "execution_count": 14,
   "id": "b9c56ec9-e3b2-41c2-8518-6a51d2a8fb12",
   "metadata": {},
   "outputs": [
    {
     "data": {
      "text/plain": [
       "'/Users/tanweersalah/Desktop/University/Python Class/Class Notebook'"
      ]
     },
     "execution_count": 14,
     "metadata": {},
     "output_type": "execute_result"
    }
   ],
   "source": [
    "import os\n",
    "\n",
    "cwd = os.getcwd()\n",
    "cwd\n"
   ]
  },
  {
   "cell_type": "code",
   "execution_count": 27,
   "id": "5483e5f3",
   "metadata": {},
   "outputs": [],
   "source": [
    "new_folder = os.mkdir(os.path.join(cwd,'new_folder'))"
   ]
  },
  {
   "cell_type": "code",
   "execution_count": 30,
   "id": "ea853154",
   "metadata": {},
   "outputs": [],
   "source": [
    "#new_file = os.mkdir(os.path.join(cwd,'new_folder'))\n",
    "\n",
    "file = open(path_2, 'w')"
   ]
  },
  {
   "cell_type": "code",
   "execution_count": 13,
   "id": "6b1ae77a",
   "metadata": {},
   "outputs": [],
   "source": [
    "\n",
    "\n",
    "# path , mode\n",
    "\n",
    "# mode to open a file\n",
    "\n",
    "# r - read only, error if file not present\n",
    "# w - write only, create a file , if file not exist\n",
    "# a - append , create a file , if file not exist\n",
    "# x - create , error if file exists\n",
    "\n",
    "# +\n",
    "\n",
    "# default = r"
   ]
  },
  {
   "cell_type": "code",
   "execution_count": 16,
   "id": "8446be45",
   "metadata": {},
   "outputs": [],
   "source": [
    "new_file = open('new_file.txt', 'x')\n",
    "new_file.close()"
   ]
  },
  {
   "cell_type": "code",
   "execution_count": 25,
   "id": "c131ad05",
   "metadata": {},
   "outputs": [
    {
     "name": "stdout",
     "output_type": "stream",
     "text": [
      "8\n"
     ]
    }
   ],
   "source": [
    "with open('new_file.txt', 'r+') as file :\n",
    "    print(file.write('Hi there') )\n"
   ]
  },
  {
   "cell_type": "code",
   "execution_count": 26,
   "id": "6d44070a",
   "metadata": {},
   "outputs": [
    {
     "name": "stdout",
     "output_type": "stream",
     "text": [
      "Hi thereereHi there\n"
     ]
    }
   ],
   "source": [
    "with open('new_file.txt', 'r') as file :\n",
    "    print(file.read() )"
   ]
  },
  {
   "cell_type": "code",
   "execution_count": 23,
   "id": "d98fb3bd",
   "metadata": {},
   "outputs": [],
   "source": [
    "with open('new_file.txt', 'a') as file :\n",
    "    file.write('Hi there')"
   ]
  },
  {
   "cell_type": "code",
   "execution_count": 37,
   "id": "2f15b672",
   "metadata": {},
   "outputs": [],
   "source": [
    "#Csv File\n",
    "import csv\n",
    "new_csv_path = os.path.join(cwd,'new_folder','file_handling.csv')\n",
    "my_list =[ \n",
    "    ['Hi', 'Hello', 'there'],\n",
    "          ['this', 'is', 'python']\n",
    "          ]\n",
    "\n",
    "with open(new_csv_path, 'w') as csv_file:\n",
    "    my_writer = csv.writer(csv_file, delimiter='-')\n",
    "    my_writer.writerows(my_list)\n",
    "    \n",
    "\n",
    "\n"
   ]
  },
  {
   "cell_type": "code",
   "execution_count": 39,
   "id": "1f521f2f",
   "metadata": {},
   "outputs": [
    {
     "name": "stdout",
     "output_type": "stream",
     "text": [
      "['Hi', 'Hello', 'there']\n",
      "['this', 'is', 'python']\n"
     ]
    }
   ],
   "source": [
    "with open(new_csv_path, 'r') as my_csv :\n",
    "    rows = csv.reader(my_csv, delimiter='-')\n",
    "\n",
    "    for row in rows:\n",
    "        print(row)\n",
    "    "
   ]
  },
  {
   "cell_type": "code",
   "execution_count": null,
   "id": "2a253660",
   "metadata": {},
   "outputs": [],
   "source": []
  }
 ],
 "metadata": {
  "kernelspec": {
   "display_name": "Python 3 (ipykernel)",
   "language": "python",
   "name": "python3"
  },
  "language_info": {
   "codemirror_mode": {
    "name": "ipython",
    "version": 3
   },
   "file_extension": ".py",
   "mimetype": "text/x-python",
   "name": "python",
   "nbconvert_exporter": "python",
   "pygments_lexer": "ipython3",
   "version": "3.10.13"
  }
 },
 "nbformat": 4,
 "nbformat_minor": 5
}
